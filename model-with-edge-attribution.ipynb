{
 "cells": [
  {
   "cell_type": "code",
   "execution_count": 1,
   "metadata": {
    "_cell_guid": "b1076dfc-b9ad-4769-8c92-a6c4dae69d19",
    "_uuid": "8f2839f25d086af736a60e9eeb907d3b93b6e0e5",
    "execution": {
     "iopub.execute_input": "2023-12-20T22:40:38.990050Z",
     "iopub.status.busy": "2023-12-20T22:40:38.989650Z",
     "iopub.status.idle": "2023-12-20T22:40:54.157564Z",
     "shell.execute_reply": "2023-12-20T22:40:54.156511Z",
     "shell.execute_reply.started": "2023-12-20T22:40:38.990018Z"
    }
   },
   "outputs": [
    {
     "name": "stdout",
     "output_type": "stream",
     "text": [
      "Collecting torch_geometric\n",
      "  Obtaining dependency information for torch_geometric from https://files.pythonhosted.org/packages/65/4e/6f9a75548a93fedcd4514ae2de9bee1e91bade6b73252b4da32f0e42ac52/torch_geometric-2.4.0-py3-none-any.whl.metadata\n",
      "  Downloading torch_geometric-2.4.0-py3-none-any.whl.metadata (63 kB)\n",
      "\u001b[2K     \u001b[90m━━━━━━━━━━━━━━━━━━━━━━━━━━━━━━━━━━━━━━━━\u001b[0m \u001b[32m63.9/63.9 kB\u001b[0m \u001b[31m2.0 MB/s\u001b[0m eta \u001b[36m0:00:00\u001b[0m\n",
      "\u001b[?25hRequirement already satisfied: tqdm in /opt/conda/lib/python3.10/site-packages (from torch_geometric) (4.66.1)\n",
      "Requirement already satisfied: numpy in /opt/conda/lib/python3.10/site-packages (from torch_geometric) (1.24.3)\n",
      "Requirement already satisfied: scipy in /opt/conda/lib/python3.10/site-packages (from torch_geometric) (1.11.4)\n",
      "Requirement already satisfied: jinja2 in /opt/conda/lib/python3.10/site-packages (from torch_geometric) (3.1.2)\n",
      "Requirement already satisfied: requests in /opt/conda/lib/python3.10/site-packages (from torch_geometric) (2.31.0)\n",
      "Requirement already satisfied: pyparsing in /opt/conda/lib/python3.10/site-packages (from torch_geometric) (3.0.9)\n",
      "Requirement already satisfied: scikit-learn in /opt/conda/lib/python3.10/site-packages (from torch_geometric) (1.2.2)\n",
      "Requirement already satisfied: psutil>=5.8.0 in /opt/conda/lib/python3.10/site-packages (from torch_geometric) (5.9.3)\n",
      "Requirement already satisfied: MarkupSafe>=2.0 in /opt/conda/lib/python3.10/site-packages (from jinja2->torch_geometric) (2.1.3)\n",
      "Requirement already satisfied: charset-normalizer<4,>=2 in /opt/conda/lib/python3.10/site-packages (from requests->torch_geometric) (3.2.0)\n",
      "Requirement already satisfied: idna<4,>=2.5 in /opt/conda/lib/python3.10/site-packages (from requests->torch_geometric) (3.4)\n",
      "Requirement already satisfied: urllib3<3,>=1.21.1 in /opt/conda/lib/python3.10/site-packages (from requests->torch_geometric) (1.26.15)\n",
      "Requirement already satisfied: certifi>=2017.4.17 in /opt/conda/lib/python3.10/site-packages (from requests->torch_geometric) (2023.11.17)\n",
      "Requirement already satisfied: joblib>=1.1.1 in /opt/conda/lib/python3.10/site-packages (from scikit-learn->torch_geometric) (1.3.2)\n",
      "Requirement already satisfied: threadpoolctl>=2.0.0 in /opt/conda/lib/python3.10/site-packages (from scikit-learn->torch_geometric) (3.2.0)\n",
      "Downloading torch_geometric-2.4.0-py3-none-any.whl (1.0 MB)\n",
      "\u001b[2K   \u001b[90m━━━━━━━━━━━━━━━━━━━━━━━━━━━━━━━━━━━━━━━━\u001b[0m \u001b[32m1.0/1.0 MB\u001b[0m \u001b[31m13.2 MB/s\u001b[0m eta \u001b[36m0:00:00\u001b[0m00:01\u001b[0m0:01\u001b[0m\n",
      "\u001b[?25hInstalling collected packages: torch_geometric\n",
      "Successfully installed torch_geometric-2.4.0\n",
      "Note: you may need to restart the kernel to use updated packages.\n"
     ]
    }
   ],
   "source": [
    "pip install torch_geometric"
   ]
  },
  {
   "cell_type": "code",
   "execution_count": 2,
   "metadata": {
    "execution": {
     "iopub.execute_input": "2023-12-20T22:40:54.160314Z",
     "iopub.status.busy": "2023-12-20T22:40:54.159949Z",
     "iopub.status.idle": "2023-12-20T22:41:13.454780Z",
     "shell.execute_reply": "2023-12-20T22:41:13.453591Z",
     "shell.execute_reply.started": "2023-12-20T22:40:54.160281Z"
    }
   },
   "outputs": [],
   "source": [
    "import os\n",
    "import pandas as pd\n",
    "import numpy as np\n",
    "import matplotlib.pyplot as plt\n",
    "import seaborn as sns\n",
    "from tqdm import tqdm\n",
    "\n",
    "import torch\n",
    "import torch_geometric \n",
    "from torch_geometric.data import Dataset, Data, DataLoader\n",
    "from torch_geometric.utils import to_dense_batch\n",
    "\n",
    "from sklearn.preprocessing import LabelEncoder\n",
    "\n",
    "\n",
    "df = pd.read_csv('/kaggle/input/inn-competition/Trainset-Evaluation/Train_Set.csv')\n",
    "ts = pd.read_csv('/kaggle/input/inn-competition/Transaction/InnoTech_Trans.csv')\n",
    "# For prototype phase we remove the nan values\n",
    "ts=ts.dropna()\n",
    "ts = ts.reset_index().drop(columns='index')\n",
    "\n",
    "# TEMP LINE CODE\n",
    "df = df.drop_duplicates(subset=['CARD'])\n",
    "\n",
    "ts = ts.drop(columns=['Terminal_ID'])"
   ]
  },
  {
   "cell_type": "code",
   "execution_count": 3,
   "metadata": {
    "execution": {
     "iopub.execute_input": "2023-12-20T22:41:13.457391Z",
     "iopub.status.busy": "2023-12-20T22:41:13.456228Z",
     "iopub.status.idle": "2023-12-20T22:41:33.796855Z",
     "shell.execute_reply": "2023-12-20T22:41:33.795846Z",
     "shell.execute_reply.started": "2023-12-20T22:41:13.457344Z"
    }
   },
   "outputs": [],
   "source": [
    "le = LabelEncoder()  \n",
    "le.fit(np.unique(np.concatenate([ts['Primary_ID'].values,ts['Second_ID'].values,df['CARD'].values])).tolist())\n",
    "\n",
    "ts['Primary_ID'] = le.transform(ts['Primary_ID'])\n",
    "ts['Second_ID'] = le.transform(ts['Second_ID'])\n",
    "df['CARD'] = le.transform(df['CARD'])\n",
    "\n",
    "# ts = pd.get_dummies(ts, columns=['Date'], prefix='Date')"
   ]
  },
  {
   "cell_type": "code",
   "execution_count": 4,
   "metadata": {
    "execution": {
     "iopub.execute_input": "2023-12-20T22:41:33.798830Z",
     "iopub.status.busy": "2023-12-20T22:41:33.798389Z",
     "iopub.status.idle": "2023-12-20T22:41:39.796461Z",
     "shell.execute_reply": "2023-12-20T22:41:39.795422Z",
     "shell.execute_reply.started": "2023-12-20T22:41:33.798788Z"
    }
   },
   "outputs": [
    {
     "name": "stderr",
     "output_type": "stream",
     "text": [
      "/opt/conda/lib/python3.10/site-packages/sklearn/preprocessing/_encoders.py:868: FutureWarning: `sparse` was renamed to `sparse_output` in version 1.2 and will be removed in 1.4. `sparse_output` is ignored unless you leave `sparse` to its default value.\n",
      "  warnings.warn(\n"
     ]
    }
   ],
   "source": [
    "import pandas as pd\n",
    "from sklearn.preprocessing import OneHotEncoder\n",
    "from sklearn.compose import ColumnTransformer\n",
    "\n",
    "encoder = OneHotEncoder(sparse=False, drop='first')  # 'first' to drop one of the columns to avoid multicollinearity\n",
    "\n",
    "column_transformer = ColumnTransformer(\n",
    "    transformers=[('onehot', encoder, ['Date'])],\n",
    "    remainder='passthrough'  # keep the other columns as they are\n",
    ")\n",
    "\n",
    "df_encoded = pd.DataFrame(column_transformer.fit_transform(ts))\n"
   ]
  },
  {
   "cell_type": "code",
   "execution_count": 5,
   "metadata": {
    "execution": {
     "iopub.execute_input": "2023-12-20T22:41:39.799041Z",
     "iopub.status.busy": "2023-12-20T22:41:39.798676Z",
     "iopub.status.idle": "2023-12-20T22:41:44.684550Z",
     "shell.execute_reply": "2023-12-20T22:41:44.683369Z",
     "shell.execute_reply.started": "2023-12-20T22:41:39.799009Z"
    }
   },
   "outputs": [],
   "source": [
    "ts=pd.concat([ts,df_encoded],axis=1).drop(columns=['Date'])"
   ]
  },
  {
   "cell_type": "code",
   "execution_count": 6,
   "metadata": {
    "execution": {
     "iopub.execute_input": "2023-12-20T22:41:44.686417Z",
     "iopub.status.busy": "2023-12-20T22:41:44.685933Z",
     "iopub.status.idle": "2023-12-20T22:41:44.696829Z",
     "shell.execute_reply": "2023-12-20T22:41:44.695468Z",
     "shell.execute_reply.started": "2023-12-20T22:41:44.686371Z"
    }
   },
   "outputs": [
    {
     "data": {
      "text/plain": [
       "0          2886\n",
       "3         15128\n",
       "4         51645\n",
       "5         59418\n",
       "6         59746\n",
       "          ...  \n",
       "28178    125944\n",
       "28181    468893\n",
       "28182    555196\n",
       "28183    922029\n",
       "28184    522065\n",
       "Name: CARD, Length: 3235, dtype: int64"
      ]
     },
     "execution_count": 6,
     "metadata": {},
     "output_type": "execute_result"
    }
   ],
   "source": [
    "df['CARD']"
   ]
  },
  {
   "cell_type": "code",
   "execution_count": 20,
   "metadata": {
    "execution": {
     "iopub.execute_input": "2023-12-20T17:45:53.896771Z",
     "iopub.status.busy": "2023-12-20T17:45:53.896334Z",
     "iopub.status.idle": "2023-12-20T17:45:53.974012Z",
     "shell.execute_reply": "2023-12-20T17:45:53.972841Z",
     "shell.execute_reply.started": "2023-12-20T17:45:53.896735Z"
    }
   },
   "outputs": [],
   "source": [
    "card_to_index = ts[ts['Primary_ID']==51645].index\n",
    "card_in_index = ts[ts['Second_ID']==51645].index\n",
    "\n",
    "edge_index_to,edge_feature_to = ts.loc[card_to_index,['Primary_ID','Second_ID']].values,ts.loc[card_to_index].values\n",
    "edge_index_in,edge_feature_in = ts.loc[card_in_index,['Primary_ID','Second_ID']].values,ts.loc[card_in_index].values\n",
    "\n",
    "edge_indexs = np.concatenate([edge_index_in,edge_index_to])\n",
    "\n",
    "nodes = np.concatenate([np.unique((ts.loc[card_to_index,['Second_ID']])),\n",
    "                        np.unique((ts.loc[card_in_index,['Primary_ID']])),np.array([51645])])\n"
   ]
  },
  {
   "cell_type": "code",
   "execution_count": 22,
   "metadata": {
    "execution": {
     "iopub.execute_input": "2023-12-20T17:45:58.698410Z",
     "iopub.status.busy": "2023-12-20T17:45:58.697197Z",
     "iopub.status.idle": "2023-12-20T17:45:58.704149Z",
     "shell.execute_reply": "2023-12-20T17:45:58.703197Z",
     "shell.execute_reply.started": "2023-12-20T17:45:58.698367Z"
    }
   },
   "outputs": [
    {
     "data": {
      "text/plain": [
       "(222,)"
      ]
     },
     "execution_count": 22,
     "metadata": {},
     "output_type": "execute_result"
    }
   ],
   "source": []
  },
  {
   "cell_type": "code",
   "execution_count": 148,
   "metadata": {
    "execution": {
     "iopub.execute_input": "2023-12-19T22:44:16.958577Z",
     "iopub.status.busy": "2023-12-19T22:44:16.958068Z",
     "iopub.status.idle": "2023-12-19T22:44:17.036028Z",
     "shell.execute_reply": "2023-12-19T22:44:17.034714Z",
     "shell.execute_reply.started": "2023-12-19T22:44:16.958530Z"
    }
   },
   "outputs": [
    {
     "ename": "KeyError",
     "evalue": "tensor(216)",
     "output_type": "error",
     "traceback": [
      "\u001b[0;31m---------------------------------------------------------------------------\u001b[0m",
      "\u001b[0;31mKeyError\u001b[0m                                  Traceback (most recent call last)",
      "Cell \u001b[0;32mIn[148], line 6\u001b[0m\n\u001b[1;32m      1\u001b[0m nodes \u001b[38;5;241m=\u001b[39m np\u001b[38;5;241m.\u001b[39mconcatenate([np\u001b[38;5;241m.\u001b[39munique((ts\u001b[38;5;241m.\u001b[39mloc[card_to_index,[\u001b[38;5;124m'\u001b[39m\u001b[38;5;124mSecond_ID\u001b[39m\u001b[38;5;124m'\u001b[39m]])),\n\u001b[1;32m      2\u001b[0m                         np\u001b[38;5;241m.\u001b[39munique((ts\u001b[38;5;241m.\u001b[39mloc[card_in_index,[\u001b[38;5;124m'\u001b[39m\u001b[38;5;124mPrimary_ID\u001b[39m\u001b[38;5;124m'\u001b[39m]])),np\u001b[38;5;241m.\u001b[39marray([\u001b[38;5;241m51645\u001b[39m])])\n\u001b[1;32m      4\u001b[0m node_dict \u001b[38;5;241m=\u001b[39m {node: index \u001b[38;5;28;01mfor\u001b[39;00m index, node \u001b[38;5;129;01min\u001b[39;00m \u001b[38;5;28menumerate\u001b[39m(nodes)}\n\u001b[0;32m----> 6\u001b[0m formal_edge_index \u001b[38;5;241m=\u001b[39m [[node_dict[src], node_dict[dst]] \u001b[38;5;28;01mfor\u001b[39;00m src, dst \u001b[38;5;129;01min\u001b[39;00m edge_indexs]\n\u001b[1;32m      9\u001b[0m nodes \u001b[38;5;241m=\u001b[39m torch\u001b[38;5;241m.\u001b[39mtensor(nodes)\n\u001b[1;32m     10\u001b[0m edge_indexs \u001b[38;5;241m=\u001b[39m torch\u001b[38;5;241m.\u001b[39mtensor(formal_edge_index, dtype\u001b[38;5;241m=\u001b[39mtorch\u001b[38;5;241m.\u001b[39mlong)\u001b[38;5;241m.\u001b[39mt()\u001b[38;5;241m.\u001b[39mcontiguous()\n",
      "Cell \u001b[0;32mIn[148], line 6\u001b[0m, in \u001b[0;36m<listcomp>\u001b[0;34m(.0)\u001b[0m\n\u001b[1;32m      1\u001b[0m nodes \u001b[38;5;241m=\u001b[39m np\u001b[38;5;241m.\u001b[39mconcatenate([np\u001b[38;5;241m.\u001b[39munique((ts\u001b[38;5;241m.\u001b[39mloc[card_to_index,[\u001b[38;5;124m'\u001b[39m\u001b[38;5;124mSecond_ID\u001b[39m\u001b[38;5;124m'\u001b[39m]])),\n\u001b[1;32m      2\u001b[0m                         np\u001b[38;5;241m.\u001b[39munique((ts\u001b[38;5;241m.\u001b[39mloc[card_in_index,[\u001b[38;5;124m'\u001b[39m\u001b[38;5;124mPrimary_ID\u001b[39m\u001b[38;5;124m'\u001b[39m]])),np\u001b[38;5;241m.\u001b[39marray([\u001b[38;5;241m51645\u001b[39m])])\n\u001b[1;32m      4\u001b[0m node_dict \u001b[38;5;241m=\u001b[39m {node: index \u001b[38;5;28;01mfor\u001b[39;00m index, node \u001b[38;5;129;01min\u001b[39;00m \u001b[38;5;28menumerate\u001b[39m(nodes)}\n\u001b[0;32m----> 6\u001b[0m formal_edge_index \u001b[38;5;241m=\u001b[39m [[\u001b[43mnode_dict\u001b[49m\u001b[43m[\u001b[49m\u001b[43msrc\u001b[49m\u001b[43m]\u001b[49m, node_dict[dst]] \u001b[38;5;28;01mfor\u001b[39;00m src, dst \u001b[38;5;129;01min\u001b[39;00m edge_indexs]\n\u001b[1;32m      9\u001b[0m nodes \u001b[38;5;241m=\u001b[39m torch\u001b[38;5;241m.\u001b[39mtensor(nodes)\n\u001b[1;32m     10\u001b[0m edge_indexs \u001b[38;5;241m=\u001b[39m torch\u001b[38;5;241m.\u001b[39mtensor(formal_edge_index, dtype\u001b[38;5;241m=\u001b[39mtorch\u001b[38;5;241m.\u001b[39mlong)\u001b[38;5;241m.\u001b[39mt()\u001b[38;5;241m.\u001b[39mcontiguous()\n",
      "\u001b[0;31mKeyError\u001b[0m: tensor(216)"
     ]
    }
   ],
   "source": [
    "nodes = np.concatenate([np.unique((ts.loc[card_to_index,['Second_ID']])),\n",
    "                        np.unique((ts.loc[card_in_index,['Primary_ID']])),np.array([51645])])\n",
    "\n",
    "node_dict = {node: index for index, node in enumerate(nodes)}\n",
    "\n",
    "formal_edge_index = [[node_dict[src], node_dict[dst]] for src, dst in edge_indexs]\n",
    "\n",
    "\n",
    "nodes = torch.tensor(nodes)\n",
    "edge_indexs = torch.tensor(formal_edge_index, dtype=torch.long).t().contiguous()\n"
   ]
  },
  {
   "cell_type": "code",
   "execution_count": 149,
   "metadata": {
    "execution": {
     "iopub.execute_input": "2023-12-19T22:44:26.151782Z",
     "iopub.status.busy": "2023-12-19T22:44:26.151395Z",
     "iopub.status.idle": "2023-12-19T22:44:26.160241Z",
     "shell.execute_reply": "2023-12-19T22:44:26.158360Z",
     "shell.execute_reply.started": "2023-12-19T22:44:26.151752Z"
    }
   },
   "outputs": [],
   "source": [
    "edge_indexs = torch.tensor(formal_edge_index, dtype=torch.long).t().contiguous()\n"
   ]
  },
  {
   "cell_type": "code",
   "execution_count": 177,
   "metadata": {
    "execution": {
     "iopub.execute_input": "2023-12-19T22:52:23.767593Z",
     "iopub.status.busy": "2023-12-19T22:52:23.766159Z",
     "iopub.status.idle": "2023-12-19T22:52:23.773703Z",
     "shell.execute_reply": "2023-12-19T22:52:23.771852Z",
     "shell.execute_reply.started": "2023-12-19T22:52:23.767536Z"
    }
   },
   "outputs": [],
   "source": [
    "# edge_indexs.reshape(-1,2)"
   ]
  },
  {
   "cell_type": "code",
   "execution_count": 7,
   "metadata": {
    "execution": {
     "iopub.execute_input": "2023-12-20T17:36:00.483929Z",
     "iopub.status.busy": "2023-12-20T17:36:00.483554Z",
     "iopub.status.idle": "2023-12-20T17:36:00.499040Z",
     "shell.execute_reply": "2023-12-20T17:36:00.497693Z",
     "shell.execute_reply.started": "2023-12-20T17:36:00.483884Z"
    }
   },
   "outputs": [],
   "source": [
    "import torch\n",
    "from torch_geometric.data import Data\n",
    "\n",
    "def construct_graph(card_id,y):\n",
    "    \"\"\"\n",
    "    This function will create a graph of transaction for each card base on the transaction dataset. The created graph\n",
    "    is directed which means each CARD_ID can be source or destination of the transaction.\n",
    "\n",
    "    params:\n",
    "        card_id \n",
    "        ts: transaction dataset\n",
    "\n",
    "    return:\n",
    "\n",
    "        graph \n",
    "    \"\"\"\n",
    "\n",
    "    card_to_index = ts[ts['Primary_ID']==card_id].index\n",
    "    card_in_index = ts[ts['Second_ID']==card_id].index\n",
    "\n",
    "    edge_index_to,edge_feature_to = ts.loc[card_to_index,['Primary_ID','Second_ID']].values,ts.loc[card_to_index].values\n",
    "    edge_index_in,edge_feature_in = ts.loc[card_in_index,['Primary_ID','Second_ID']].values,ts.loc[card_in_index].values\n",
    "\n",
    "    edge_indexs = np.concatenate([edge_index_in,edge_index_to])\n",
    "\n",
    "    nodes = np.concatenate([np.unique((ts.loc[card_to_index,['Second_ID']])),\n",
    "                            np.unique((ts.loc[card_in_index,['Primary_ID']])),np.array([card_id])])\n",
    "    \n",
    "    node_dict = {node: index for index, node in enumerate(nodes)}\n",
    "    \n",
    "    formal_edge_index = [[node_dict[src], node_dict[dst]] for src, dst in edge_indexs]\n",
    "    \n",
    "\n",
    "    nodes = torch.tensor(nodes.re)\n",
    "    # convert (n,2) to (2,n) shape \n",
    "    edge_indexs = torch.tensor(formal_edge_index, dtype=torch.long).reshape(-1,2).t().contiguous()\n",
    "    \n",
    "    edge_features = torch.tensor(np.concatenate([edge_feature_to,edge_feature_in]))\n",
    "    \n",
    "    data = Data(x=nodes, edge_index=edge_indexs,y=y)\n",
    "    data.edge_attr = edge_features\n",
    "\n",
    "    return data\n"
   ]
  },
  {
   "cell_type": "code",
   "execution_count": 190,
   "metadata": {
    "execution": {
     "iopub.execute_input": "2023-12-19T22:53:03.706037Z",
     "iopub.status.busy": "2023-12-19T22:53:03.705536Z",
     "iopub.status.idle": "2023-12-19T22:53:03.716531Z",
     "shell.execute_reply": "2023-12-19T22:53:03.714925Z",
     "shell.execute_reply.started": "2023-12-19T22:53:03.705997Z"
    }
   },
   "outputs": [
    {
     "data": {
      "text/plain": [
       "Data(x=[880], edge_index=[2, 1068], y=1.0, edge_attr=[1068, 104])"
      ]
     },
     "execution_count": 190,
     "metadata": {},
     "output_type": "execute_result"
    }
   ],
   "source": [
    "data[0]"
   ]
  },
  {
   "cell_type": "code",
   "execution_count": 8,
   "metadata": {
    "execution": {
     "iopub.execute_input": "2023-12-20T17:36:00.500814Z",
     "iopub.status.busy": "2023-12-20T17:36:00.500489Z",
     "iopub.status.idle": "2023-12-20T17:39:51.316146Z",
     "shell.execute_reply": "2023-12-20T17:39:51.314897Z",
     "shell.execute_reply.started": "2023-12-20T17:36:00.500785Z"
    }
   },
   "outputs": [
    {
     "name": "stderr",
     "output_type": "stream",
     "text": [
      "100%|██████████| 3235/3235 [03:50<00:00, 14.02it/s]\n"
     ]
    }
   ],
   "source": [
    "from tqdm import tqdm\n",
    "\n",
    "data = []\n",
    "\n",
    "for (i, y) in tqdm(zip(df['CARD'], df['LABEL']), total=len(df)):\n",
    "    data.append(construct_graph(i, y))\n"
   ]
  },
  {
   "cell_type": "code",
   "execution_count": 9,
   "metadata": {
    "execution": {
     "iopub.execute_input": "2023-12-20T17:39:51.318472Z",
     "iopub.status.busy": "2023-12-20T17:39:51.317996Z",
     "iopub.status.idle": "2023-12-20T17:39:53.318174Z",
     "shell.execute_reply": "2023-12-20T17:39:53.317117Z",
     "shell.execute_reply.started": "2023-12-20T17:39:51.318427Z"
    }
   },
   "outputs": [],
   "source": [
    "# Save the prepared data\n",
    "torch.save(data,'/kaggle/working/graph_data.pt')\n",
    "\n"
   ]
  },
  {
   "cell_type": "code",
   "execution_count": null,
   "metadata": {},
   "outputs": [],
   "source": []
  },
  {
   "cell_type": "code",
   "execution_count": 201,
   "metadata": {
    "execution": {
     "iopub.execute_input": "2023-12-19T22:57:40.353124Z",
     "iopub.status.busy": "2023-12-19T22:57:40.352389Z",
     "iopub.status.idle": "2023-12-19T22:57:40.366064Z",
     "shell.execute_reply": "2023-12-19T22:57:40.364053Z",
     "shell.execute_reply.started": "2023-12-19T22:57:40.353078Z"
    }
   },
   "outputs": [],
   "source": [
    "import os\n",
    "import torch\n",
    "from torch_geometric.data import Dataset, Data\n",
    "from torch_geometric.utils import to_dense_batch\n",
    "\n",
    "class CustomGraphDataset(Dataset):\n",
    "    def __init__(self, root, transform=None):\n",
    "        self.root = root\n",
    "        self.transform = transform\n",
    "        self.graph_files =root\n",
    "        self.data = torch.load(self.graph_files)\n",
    "        self.max_num_nodes = self.find_max_num_nodes()\n",
    "        self.max_num_edge_index = self.find_max_num_edge_index()\n",
    "        \n",
    "    def find_max_num_edge_index(self):\n",
    "        max_num_edge_index = max(data.edge_index.shape[1] for data in self.data)\n",
    "        return max_num_edge_index\n",
    "    \n",
    "    def find_max_num_nodes(self):\n",
    "        max_num_nodes = max(data.num_nodes for data in self.data)\n",
    "        return max_num_nodes\n",
    "    \n",
    "    def indices(self):\n",
    "        return list(range(self.len()))\n",
    "\n",
    "    def len(self):\n",
    "        return len(self.data)\n",
    "\n",
    "    def get(self, idx):\n",
    "        \n",
    "        num_nodes_to_pad = self.max_num_nodes - self.data[idx].num_nodes\n",
    "        num_edge_to_pad = self.max_num_edge_index - self.data[idx].edge_index.shape[1]\n",
    "        \n",
    "        # Pad num_nodes with zeros\n",
    "        self.data[idx].x = torch.cat([self.data[idx].x, torch.zeros(num_nodes_to_pad)])\n",
    "        \n",
    "        # Pad edge_index with zeros\n",
    "        self.data[idx].edge_index = torch.cat([self.data[idx].edge_index, torch.zeros(2,num_edge_to_pad)],dim=1)\n",
    "        self.data[idx].edge_attr = torch.cat([self.data[idx].edge_attr,torch.zeros(num_edge_to_pad,104)])\n",
    "        # Update the number of nodes in the data object\n",
    "        self.data[idx].num_nodes = self.max_num_nodes\n",
    "\n",
    "        return self.data[idx]"
   ]
  },
  {
   "cell_type": "code",
   "execution_count": 202,
   "metadata": {
    "execution": {
     "iopub.execute_input": "2023-12-19T22:57:40.511402Z",
     "iopub.status.busy": "2023-12-19T22:57:40.511033Z",
     "iopub.status.idle": "2023-12-19T22:57:40.516215Z",
     "shell.execute_reply": "2023-12-19T22:57:40.515341Z",
     "shell.execute_reply.started": "2023-12-19T22:57:40.511377Z"
    }
   },
   "outputs": [],
   "source": [
    "import torch\n",
    "from torch_geometric.data import Data\n",
    "from torch_geometric.utils import to_dense_batch\n",
    "\n",
    "def collate_fn(batch):\n",
    "    batch = to_dense_batch(batch)\n",
    "    return Data(x=batch.x, edge_index=batch.edge_index, y=batch.y)"
   ]
  },
  {
   "cell_type": "code",
   "execution_count": 203,
   "metadata": {
    "execution": {
     "iopub.execute_input": "2023-12-19T22:57:40.696902Z",
     "iopub.status.busy": "2023-12-19T22:57:40.696505Z",
     "iopub.status.idle": "2023-12-19T22:57:41.300915Z",
     "shell.execute_reply": "2023-12-19T22:57:41.299477Z",
     "shell.execute_reply.started": "2023-12-19T22:57:40.696873Z"
    }
   },
   "outputs": [
    {
     "data": {
      "text/plain": [
       "24651"
      ]
     },
     "execution_count": 203,
     "metadata": {},
     "output_type": "execute_result"
    }
   ],
   "source": [
    "root = '/kaggle/working/graph_data.pt'\n",
    "train_dataset = CustomGraphDataset(root)\n",
    "train_dataset.max_num_nodes"
   ]
  },
  {
   "cell_type": "code",
   "execution_count": 204,
   "metadata": {
    "execution": {
     "iopub.execute_input": "2023-12-19T22:57:41.304204Z",
     "iopub.status.busy": "2023-12-19T22:57:41.303775Z",
     "iopub.status.idle": "2023-12-19T22:57:41.312172Z",
     "shell.execute_reply": "2023-12-19T22:57:41.310374Z",
     "shell.execute_reply.started": "2023-12-19T22:57:41.304161Z"
    }
   },
   "outputs": [],
   "source": [
    "from torch_geometric.loader import DataLoader\n",
    "\n",
    "train_loader = DataLoader(train_dataset, batch_size=64, shuffle=True)\n",
    "# test_loader = DataLoader(test_dataset, batch_size=64, shuffle=False)\n",
    "\n",
    "# for step, data in enumerate(train_loader):\n",
    "#     print(f'Step {step + 1}:')\n",
    "#     print('=======')\n",
    "#     print(f'Number of graphs in the current batch: {data.num_graphs}')\n",
    "#     print(data)\n",
    "#     print()"
   ]
  },
  {
   "cell_type": "code",
   "execution_count": 10,
   "metadata": {
    "execution": {
     "iopub.execute_input": "2023-12-20T17:42:02.226706Z",
     "iopub.status.busy": "2023-12-20T17:42:02.226236Z",
     "iopub.status.idle": "2023-12-20T17:42:02.232402Z",
     "shell.execute_reply": "2023-12-20T17:42:02.231285Z",
     "shell.execute_reply.started": "2023-12-20T17:42:02.226660Z"
    }
   },
   "outputs": [],
   "source": [
    "from torch_geometric.loader import DataLoader\n",
    "\n",
    "train_loader = DataLoader(data, batch_size=64, shuffle=True)"
   ]
  },
  {
   "cell_type": "code",
   "execution_count": null,
   "metadata": {},
   "outputs": [],
   "source": [
    "for "
   ]
  },
  {
   "cell_type": "code",
   "execution_count": 62,
   "metadata": {
    "execution": {
     "iopub.execute_input": "2023-12-20T17:56:46.341447Z",
     "iopub.status.busy": "2023-12-20T17:56:46.340955Z",
     "iopub.status.idle": "2023-12-20T17:56:46.347688Z",
     "shell.execute_reply": "2023-12-20T17:56:46.346400Z",
     "shell.execute_reply.started": "2023-12-20T17:56:46.341410Z"
    }
   },
   "outputs": [],
   "source": [
    "def weights_init(m):\n",
    "    if isinstance(m, torch.nn.Linear):\n",
    "        torch.nn.init.xavier_uniform_(m.weight.data)\n"
   ]
  },
  {
   "cell_type": "code",
   "execution_count": 90,
   "metadata": {
    "execution": {
     "iopub.execute_input": "2023-12-20T18:06:53.957173Z",
     "iopub.status.busy": "2023-12-20T18:06:53.956774Z",
     "iopub.status.idle": "2023-12-20T18:06:53.984804Z",
     "shell.execute_reply": "2023-12-20T18:06:53.983560Z",
     "shell.execute_reply.started": "2023-12-20T18:06:53.957142Z"
    }
   },
   "outputs": [
    {
     "name": "stdout",
     "output_type": "stream",
     "text": [
      "GAT(\n",
      "  (conv1): GATConv(1, 64, heads=2)\n",
      "  (conv2): GATConv(128, 64, heads=2)\n",
      "  (conv3): GATConv(128, 64, heads=2)\n",
      "  (lin): Linear(in_features=128, out_features=3, bias=True)\n",
      ")\n"
     ]
    }
   ],
   "source": [
    "from torch.nn import Linear\n",
    "import torch.nn.functional as F\n",
    "from torch_geometric.nn import GCNConv\n",
    "from torch_geometric.nn import global_mean_pool\n",
    "\n",
    "\n",
    "from torch.nn import Linear\n",
    "import torch.nn.functional as F\n",
    "from torch_geometric.nn import GATConv\n",
    "from torch_geometric.nn import global_mean_pool\n",
    "\n",
    "class GAT(torch.nn.Module):\n",
    "    def __init__(self, node_input_channels, edge_input_channels, hidden_channels, num_heads):\n",
    "        super(GAT, self).__init__()\n",
    "        torch.manual_seed(12345)\n",
    "        self.conv1 = GATConv(node_input_channels, hidden_channels, heads=num_heads, edge_input_channels=edge_input_channels)\n",
    "        self.conv2 = GATConv(hidden_channels * num_heads, hidden_channels, heads=num_heads, edge_input_channels=edge_input_channels)\n",
    "        self.conv3 = GATConv(hidden_channels * num_heads, hidden_channels, heads=num_heads, edge_input_channels=edge_input_channels)\n",
    "        self.lin = Linear(hidden_channels * num_heads, 3)\n",
    "\n",
    "    def forward(self, x, edge_index, edge_attr, batch):\n",
    "        x = self.conv1(x, edge_index, edge_attr)\n",
    "        x = F.elu(x)  # Use ELU as activation for GAT\n",
    "        x = self.conv2(x, edge_index, edge_attr)\n",
    "        x = F.elu(x)\n",
    "        x = self.conv3(x, edge_index, edge_attr)\n",
    "\n",
    "        x = global_mean_pool(x, batch)\n",
    "\n",
    "        x = F.dropout(x, p=0.5, training=self.training)\n",
    "        x = self.lin(x)\n",
    "\n",
    "        return x\n",
    "\n",
    "\n",
    "model = GAT(1,104,64,2)\n",
    "\n",
    "model.apply(weights_init)\n",
    "print(model)\n",
    "\n",
    "optimizer = torch.optim.Adam(model.parameters(), lr=0.01)\n",
    "criterion = torch.nn.CrossEntropyLoss()\n",
    "\n",
    "def train():\n",
    "    model.train()\n",
    "\n",
    "    for data in train_loader:  # Iterate in batches over the training dataset.\n",
    "#          print(data.x.shape)\n",
    "#          print(data.edge_index.shape)\n",
    "#          print(data.edge_attr.shape)\n",
    "#          print(data.x.shape)\n",
    "\n",
    "         out = model(data.x.reshape(data.x.shape[0],1).float(), data.edge_index,data.edge_attr, data.batch)  # Perform a single forward pass.\n",
    "         loss = criterion(out, data.y.long())  # Compute the loss.\n",
    "         loss.backward()  # Derive gradients.\n",
    "         optimizer.step()  # Update parameters based on gradients.\n",
    "         optimizer.zero_grad()  # Clear gradients.\n",
    "\n",
    "def test(loader):\n",
    "     model.eval()\n",
    "\n",
    "     correct = 0\n",
    "     for data in loader:  # Iterate in batches over the training/test dataset.\n",
    "         out = model(data.x.reshape(data.x.shape[0],1).float(), data.edge_index, data.batch)  # Perform a single forward pass.\n",
    "         pred = out.argmax(dim=1)  # Use the class with highest probability.\n",
    "         correct += int((pred == data.y.long()).sum())  # Check against ground-truth labels.\n",
    "     return correct / len(loader.dataset)  # Derive ratio of correct predictions.\n"
   ]
  },
  {
   "cell_type": "code",
   "execution_count": null,
   "metadata": {
    "execution": {
     "iopub.execute_input": "2023-12-20T18:06:54.321215Z",
     "iopub.status.busy": "2023-12-20T18:06:54.320546Z"
    }
   },
   "outputs": [],
   "source": [
    "for epoch in range(1, 171):\n",
    "    train()\n",
    "    train_acc = test(train_loader)\n",
    "#     test_acc = test(test_loader)\n",
    "    print(f'Epoch: {epoch:03d}, Train Acc: {train_acc:.4f}')"
   ]
  },
  {
   "cell_type": "code",
   "execution_count": 80,
   "metadata": {
    "execution": {
     "iopub.execute_input": "2023-12-20T18:01:04.784954Z",
     "iopub.status.busy": "2023-12-20T18:01:04.784313Z",
     "iopub.status.idle": "2023-12-20T18:01:04.796451Z",
     "shell.execute_reply": "2023-12-20T18:01:04.793279Z",
     "shell.execute_reply.started": "2023-12-20T18:01:04.784912Z"
    }
   },
   "outputs": [
    {
     "data": {
      "text/plain": [
       "2302248"
      ]
     },
     "execution_count": 80,
     "metadata": {},
     "output_type": "execute_result"
    }
   ],
   "source": [
    "22137*104"
   ]
  },
  {
   "cell_type": "code",
   "execution_count": null,
   "metadata": {},
   "outputs": [],
   "source": []
  }
 ],
 "metadata": {
  "kaggle": {
   "accelerator": "none",
   "dataSources": [
    {
     "datasetId": 4194368,
     "sourceId": 7241600,
     "sourceType": "datasetVersion"
    }
   ],
   "dockerImageVersionId": 30626,
   "isGpuEnabled": false,
   "isInternetEnabled": true,
   "language": "python",
   "sourceType": "notebook"
  },
  "kernelspec": {
   "display_name": "Python 3 (ipykernel)",
   "language": "python",
   "name": "python3"
  },
  "language_info": {
   "codemirror_mode": {
    "name": "ipython",
    "version": 3
   },
   "file_extension": ".py",
   "mimetype": "text/x-python",
   "name": "python",
   "nbconvert_exporter": "python",
   "pygments_lexer": "ipython3",
   "version": "3.9.13"
  }
 },
 "nbformat": 4,
 "nbformat_minor": 4
}
