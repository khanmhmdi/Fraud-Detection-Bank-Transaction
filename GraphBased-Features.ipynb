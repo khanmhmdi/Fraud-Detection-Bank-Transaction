{
 "cells": [
  {
   "cell_type": "markdown",
   "id": "025dbde1",
   "metadata": {},
   "source": [
    "## Fraud Detection inotech"
   ]
  },
  {
   "cell_type": "code",
   "execution_count": 2,
   "id": "3def0510",
   "metadata": {},
   "outputs": [],
   "source": [
    "import pandas as pd \n",
    "import numpy as np\n",
    "import math\n",
    "from datetime import datetime\n",
    "from tqdm import tqdm\n",
    "import re\n",
    "#Plotting\n",
    "import seaborn as sns\n",
    "import matplotlib.pyplot as plt\n",
    "from matplotlib import pyplot\n",
    "from matplotlib.pyplot import figure\n",
    "#Preprocessing\n",
    "from sklearn.model_selection import train_test_split\n",
    "from sklearn.preprocessing import StandardScaler\n",
    "from sklearn.cluster import KMeans\n",
    "from sklearn.metrics import silhouette_score\n",
    "from sklearn.manifold import TSNE\n",
    "#Models\n",
    "from sklearn.linear_model import LogisticRegression\n",
    "from sklearn.svm import SVC\n",
    "from sklearn.tree import DecisionTreeClassifier\n",
    "from sklearn.ensemble import RandomForestClassifier\n",
    "from sklearn.neighbors import KNeighborsClassifier\n",
    "from sklearn import tree\n",
    "from sklearn.ensemble import BaggingClassifier\n",
    "from sklearn.ensemble import AdaBoostClassifier\n",
    "from sklearn.neural_network import MLPClassifier\n",
    "from sklearn.ensemble import GradientBoostingClassifier\n",
    "from sklearn.ensemble import ExtraTreesClassifier\n",
    "from sklearn.ensemble import AdaBoostClassifier\n",
    "#MLP\n",
    "import tensorflow as tf\n",
    "from tensorflow.keras.models import Sequential\n",
    "from tensorflow.keras.layers import Dense, Input\n",
    "from tensorflow.keras.optimizers import Adam\n",
    "from tensorflow.keras.callbacks import LearningRateScheduler\n",
    "from tensorflow.keras.optimizers import RMSprop\n",
    "from tensorflow.keras.callbacks import EarlyStopping\n",
    "from tensorflow.keras.layers import BatchNormalization, Dense, Dropout, Input\n",
    "from tensorflow.keras.models import Sequential\n",
    "from tensorflow.keras.optimizers import Adam\n",
    "#Feature selection\n",
    "from sklearn.feature_selection import SelectFromModel\n",
    "from sklearn.inspection import permutation_importance\n",
    "#Evaluation\n",
    "from statistics import mean, stdev\n",
    "from sklearn.metrics import classification_report\n",
    "from sklearn.metrics import mean_squared_error\n",
    "from sklearn.metrics import mean_absolute_error\n",
    "from sklearn.metrics import r2_score\n",
    "from sklearn.metrics import precision_score\n",
    "from sklearn.model_selection import cross_val_score\n",
    "from sklearn.metrics import accuracy_score\n",
    "from sklearn.metrics import confusion_matrix\n",
    "from sklearn.metrics import f1_score\n",
    "from sklearn.metrics import roc_curve\n",
    "from sklearn.metrics import roc_auc_score\n",
    "#Anomaly Detection\n",
    "from sklearn.ensemble import IsolationForest\n",
    "#Time Series\n",
    "import statsmodels.api as sm\n",
    "from statsmodels.tsa.seasonal import seasonal_decompose\n",
    "#Ignore warning\n",
    "import warnings\n",
    "warnings.filterwarnings(\"ignore\")"
   ]
  },
  {
   "cell_type": "markdown",
   "id": "30bbe391",
   "metadata": {},
   "source": [
    "## Outline\n",
    "- [Methods](#0)\n",
    "- [Dataset](#1)\n",
    "- [Features](#2)\n",
    "- [Graph Based Features](#3)\n",
    "- [Train the models](#4)\n"
   ]
  },
  {
   "cell_type": "markdown",
   "id": "d154faf2",
   "metadata": {},
   "source": [
    "<a name=\"0\"></a>\n",
    "**Methods**"
   ]
  },
  {
   "cell_type": "code",
   "execution_count": 3,
   "id": "8a2a1bb5",
   "metadata": {},
   "outputs": [],
   "source": [
    "def featureAnalysis(feature,dataset):\n",
    "    a = dataset.describe()\n",
    "    b = a[feature].to_frame().T\n",
    "    fig, ax = plt.subplots(2, 1, figsize=(20, 18))\n",
    "    sns.histplot(x=dataset[feature], data=dataset, kde=True, element=\"step\",ax=ax[0])\n",
    "    sns.boxplot(data=dataset , x = feature ,ax=ax[1])\n",
    "    return(b)"
   ]
  },
  {
   "cell_type": "code",
   "execution_count": 4,
   "id": "7404c446",
   "metadata": {},
   "outputs": [],
   "source": [
    "def confusionMat(Y_test, y_pred,y_prob,modelName):\n",
    "    cf_matrix = confusion_matrix(Y_test, y_pred)\n",
    "    group_names = ['True Neg','False Pos','False Neg','True Pos']\n",
    "    group_counts = [\"{0:0.0f}\".format(value) for value in\n",
    "                cf_matrix.flatten()]\n",
    "    group_percentages = [\"{0:.2%}\".format(value) for value in\n",
    "                     cf_matrix.flatten()/np.sum(cf_matrix)]\n",
    "\n",
    "    labels = [f\"{v1}\\n{v2}\\n{v3}\" for v1, v2, v3 in\n",
    "          zip(group_names,group_counts,group_percentages)]\n",
    "    labels = np.asarray(labels).reshape(2,2)\n",
    "    fpr, tpr, thresh = roc_curve(Y_test, y_prob, pos_label=1)\n",
    "    auc = roc_auc_score(Y_test, y_prob)\n",
    "    \n",
    "    accuracy = accuracy_score(Y_test, y_pred)\n",
    "    f1 = f1_score(Y_test, y_pred)\n",
    "\n",
    "    print(\"\\n\",modelName,\"...................................\\n\") \n",
    "    print(\"Accuracy:\", accuracy)\n",
    "    print(\"F1-Score:\", f1)\n",
    "    fig, ax = plt.subplots(1, 2, figsize=(20, 8))\n",
    "    sns.heatmap(cf_matrix, annot=labels, fmt=\"\", cmap='Blues',ax=ax[0])\n",
    "    plt.plot(fpr,tpr,label=\"AUC=\"+str(auc))\n",
    "    plt.ylabel('True Positive Rate')\n",
    "    plt.xlabel('False Positive Rate')\n",
    "    plt.legend(loc=4)\n",
    "    plt.show()\n",
    "    print(classification_report(Y_test, y_pred,zero_division=1))\n",
    "    return accuracy, f1"
   ]
  },
  {
   "cell_type": "code",
   "execution_count": 5,
   "id": "1563412c",
   "metadata": {},
   "outputs": [],
   "source": [
    "def KmeansMethod(dataset,minK,maxK): \n",
    "    inertia = []\n",
    "    silhouette_scores = []\n",
    "    silhouette_dict = {}  # Dictionary to store silhouette scores\n",
    "    k_values = range(minK, maxK)  # Test values of k from 2 to 10\n",
    "\n",
    "    for k in k_values:\n",
    "        kmeans = KMeans(n_clusters=k, random_state=42)\n",
    "        kmeans.fit(dataset)\n",
    "        inertia.append(kmeans.inertia_)\n",
    "        silhouette_score_k = silhouette_score(dataset, kmeans.labels_)\n",
    "        silhouette_scores.append(silhouette_score_k)\n",
    "        silhouette_dict[k] = silhouette_score_k\n",
    "        \n",
    "    sorted_scores = sorted(silhouette_dict.items(), key=lambda x: x[1], reverse=True)\n",
    "\n",
    "    # Print all silhouette scores in sorted order\n",
    "    print(\"Silhouette scores (sorted in descending order):\")\n",
    "    for k, score in sorted_scores:\n",
    "        print(f\"Silhouette score for k={k}: {score}\")\n",
    "        \n",
    "    # Plotting inertia and silhouette score\n",
    "    plt.figure(figsize=(20, 6))\n",
    "    plt.subplot(1, 2, 1)\n",
    "    plt.plot(k_values, inertia, marker='o')\n",
    "    plt.xlabel('Number of clusters (k)')\n",
    "    plt.ylabel('Inertia')\n",
    "    plt.title('Inertia vs. Number of Clusters')\n",
    "\n",
    "    plt.subplot(1, 2, 2)\n",
    "    plt.plot(k_values, silhouette_scores, marker='o')\n",
    "    plt.xlabel('Number of clusters (k)')\n",
    "    plt.ylabel('Silhouette Score')\n",
    "    plt.title('Silhouette Score vs. Number of Clusters')\n",
    "\n",
    "    plt.tight_layout()\n",
    "    plt.show()"
   ]
  },
  {
   "cell_type": "markdown",
   "id": "431a43ed",
   "metadata": {},
   "source": [
    "<a name=\"1\"></a>\n",
    "## Datasets"
   ]
  },
  {
   "cell_type": "code",
   "execution_count": 6,
   "id": "ca186d73",
   "metadata": {},
   "outputs": [],
   "source": [
    "train = pd.read_csv(\"data/InnoTech-Data/Trainset-Evaluation/Train_Set.csv\")\n",
    "evaluation   = pd.read_csv(\"data/InnoTech-Data/Trainset-Evaluation/Evaluation_Set.csv\")\n",
    "transactions = pd.read_csv(\"data/InnoTech-Data/Transaction/InnoTech_Trans.csv\")"
   ]
  },
  {
   "cell_type": "markdown",
   "id": "564c412d",
   "metadata": {},
   "source": [
    "**Train and evaluation**"
   ]
  },
  {
   "cell_type": "code",
   "execution_count": 7,
   "id": "2b8e869b",
   "metadata": {},
   "outputs": [
    {
     "data": {
      "text/html": [
       "<div>\n",
       "<style scoped>\n",
       "    .dataframe tbody tr th:only-of-type {\n",
       "        vertical-align: middle;\n",
       "    }\n",
       "\n",
       "    .dataframe tbody tr th {\n",
       "        vertical-align: top;\n",
       "    }\n",
       "\n",
       "    .dataframe thead th {\n",
       "        text-align: right;\n",
       "    }\n",
       "</style>\n",
       "<table border=\"1\" class=\"dataframe\">\n",
       "  <thead>\n",
       "    <tr style=\"text-align: right;\">\n",
       "      <th></th>\n",
       "      <th>CARD</th>\n",
       "      <th>DATE</th>\n",
       "      <th>LABEL</th>\n",
       "    </tr>\n",
       "  </thead>\n",
       "  <tbody>\n",
       "    <tr>\n",
       "      <th>0</th>\n",
       "      <td>009e24d27d670b24a73d</td>\n",
       "      <td>2023/05/09 00:00:00</td>\n",
       "      <td>1.0</td>\n",
       "    </tr>\n",
       "    <tr>\n",
       "      <th>1</th>\n",
       "      <td>009e24d27d670b24a73d</td>\n",
       "      <td>2023/05/03 00:00:00</td>\n",
       "      <td>1.0</td>\n",
       "    </tr>\n",
       "    <tr>\n",
       "      <th>2</th>\n",
       "      <td>009e24d27d670b24a73d</td>\n",
       "      <td>2023/04/26 00:00:00</td>\n",
       "      <td>1.0</td>\n",
       "    </tr>\n",
       "    <tr>\n",
       "      <th>3</th>\n",
       "      <td>034ae47f44e914cb7ee6</td>\n",
       "      <td>2023/05/30 00:00:00</td>\n",
       "      <td>1.0</td>\n",
       "    </tr>\n",
       "    <tr>\n",
       "      <th>4</th>\n",
       "      <td>0b2c8a4c5e9a0b1546ee</td>\n",
       "      <td>2023/03/16 00:00:00</td>\n",
       "      <td>1.0</td>\n",
       "    </tr>\n",
       "    <tr>\n",
       "      <th>...</th>\n",
       "      <td>...</td>\n",
       "      <td>...</td>\n",
       "      <td>...</td>\n",
       "    </tr>\n",
       "    <tr>\n",
       "      <th>28180</th>\n",
       "      <td>ad0b2864c4544f27c83d</td>\n",
       "      <td>2023/03/06 00:00:00</td>\n",
       "      <td>2.0</td>\n",
       "    </tr>\n",
       "    <tr>\n",
       "      <th>28181</th>\n",
       "      <td>64e272dfcf2db4b4d4af</td>\n",
       "      <td>2023/05/03 00:00:00</td>\n",
       "      <td>0.0</td>\n",
       "    </tr>\n",
       "    <tr>\n",
       "      <th>28182</th>\n",
       "      <td>77787842a915e581e2b6</td>\n",
       "      <td>2023/04/12 00:00:00</td>\n",
       "      <td>0.0</td>\n",
       "    </tr>\n",
       "    <tr>\n",
       "      <th>28183</th>\n",
       "      <td>c618a52c75a225593871</td>\n",
       "      <td>2023/05/05 00:00:00</td>\n",
       "      <td>0.0</td>\n",
       "    </tr>\n",
       "    <tr>\n",
       "      <th>28184</th>\n",
       "      <td>705da72519aee5e63432</td>\n",
       "      <td>2023/05/05 00:00:00</td>\n",
       "      <td>0.0</td>\n",
       "    </tr>\n",
       "  </tbody>\n",
       "</table>\n",
       "<p>28185 rows × 3 columns</p>\n",
       "</div>"
      ],
      "text/plain": [
       "                       CARD                 DATE  LABEL\n",
       "0      009e24d27d670b24a73d  2023/05/09 00:00:00    1.0\n",
       "1      009e24d27d670b24a73d  2023/05/03 00:00:00    1.0\n",
       "2      009e24d27d670b24a73d  2023/04/26 00:00:00    1.0\n",
       "3      034ae47f44e914cb7ee6  2023/05/30 00:00:00    1.0\n",
       "4      0b2c8a4c5e9a0b1546ee  2023/03/16 00:00:00    1.0\n",
       "...                     ...                  ...    ...\n",
       "28180  ad0b2864c4544f27c83d  2023/03/06 00:00:00    2.0\n",
       "28181  64e272dfcf2db4b4d4af  2023/05/03 00:00:00    0.0\n",
       "28182  77787842a915e581e2b6  2023/04/12 00:00:00    0.0\n",
       "28183  c618a52c75a225593871  2023/05/05 00:00:00    0.0\n",
       "28184  705da72519aee5e63432  2023/05/05 00:00:00    0.0\n",
       "\n",
       "[28185 rows x 3 columns]"
      ]
     },
     "execution_count": 7,
     "metadata": {},
     "output_type": "execute_result"
    }
   ],
   "source": [
    "train"
   ]
  },
  {
   "cell_type": "code",
   "execution_count": 8,
   "id": "b93b8104",
   "metadata": {},
   "outputs": [],
   "source": [
    "mask = train.groupby('CARD')['LABEL'].nunique() != 1\n",
    "result = train[train['CARD'].isin(mask[mask].index)]"
   ]
  },
  {
   "cell_type": "code",
   "execution_count": 9,
   "id": "b33bb338",
   "metadata": {},
   "outputs": [
    {
     "data": {
      "text/html": [
       "<div>\n",
       "<style scoped>\n",
       "    .dataframe tbody tr th:only-of-type {\n",
       "        vertical-align: middle;\n",
       "    }\n",
       "\n",
       "    .dataframe tbody tr th {\n",
       "        vertical-align: top;\n",
       "    }\n",
       "\n",
       "    .dataframe thead th {\n",
       "        text-align: right;\n",
       "    }\n",
       "</style>\n",
       "<table border=\"1\" class=\"dataframe\">\n",
       "  <thead>\n",
       "    <tr style=\"text-align: right;\">\n",
       "      <th></th>\n",
       "      <th>CARD</th>\n",
       "      <th>DATE</th>\n",
       "      <th>LABEL</th>\n",
       "    </tr>\n",
       "  </thead>\n",
       "  <tbody>\n",
       "  </tbody>\n",
       "</table>\n",
       "</div>"
      ],
      "text/plain": [
       "Empty DataFrame\n",
       "Columns: [CARD, DATE, LABEL]\n",
       "Index: []"
      ]
     },
     "execution_count": 9,
     "metadata": {},
     "output_type": "execute_result"
    }
   ],
   "source": [
    "result"
   ]
  },
  {
   "cell_type": "markdown",
   "id": "a1dc0ccb",
   "metadata": {},
   "source": [
    "The label is not related to date or time it's about each Card"
   ]
  },
  {
   "cell_type": "code",
   "execution_count": 10,
   "id": "fb989768",
   "metadata": {},
   "outputs": [
    {
     "data": {
      "text/plain": [
       "3235"
      ]
     },
     "execution_count": 10,
     "metadata": {},
     "output_type": "execute_result"
    }
   ],
   "source": [
    "train['CARD'].nunique()"
   ]
  },
  {
   "cell_type": "code",
   "execution_count": 11,
   "id": "4a9094d9",
   "metadata": {},
   "outputs": [
    {
     "data": {
      "text/html": [
       "<div>\n",
       "<style scoped>\n",
       "    .dataframe tbody tr th:only-of-type {\n",
       "        vertical-align: middle;\n",
       "    }\n",
       "\n",
       "    .dataframe tbody tr th {\n",
       "        vertical-align: top;\n",
       "    }\n",
       "\n",
       "    .dataframe thead th {\n",
       "        text-align: right;\n",
       "    }\n",
       "</style>\n",
       "<table border=\"1\" class=\"dataframe\">\n",
       "  <thead>\n",
       "    <tr style=\"text-align: right;\">\n",
       "      <th></th>\n",
       "      <th>CARD</th>\n",
       "      <th>LABEL</th>\n",
       "    </tr>\n",
       "  </thead>\n",
       "  <tbody>\n",
       "    <tr>\n",
       "      <th>0</th>\n",
       "      <td>009e24d27d670b24a73d</td>\n",
       "      <td>1.0</td>\n",
       "    </tr>\n",
       "    <tr>\n",
       "      <th>3</th>\n",
       "      <td>034ae47f44e914cb7ee6</td>\n",
       "      <td>1.0</td>\n",
       "    </tr>\n",
       "    <tr>\n",
       "      <th>4</th>\n",
       "      <td>0b2c8a4c5e9a0b1546ee</td>\n",
       "      <td>1.0</td>\n",
       "    </tr>\n",
       "    <tr>\n",
       "      <th>5</th>\n",
       "      <td>0cdf22b047d079e06299</td>\n",
       "      <td>1.0</td>\n",
       "    </tr>\n",
       "    <tr>\n",
       "      <th>6</th>\n",
       "      <td>0cf173146d0cdb62a209</td>\n",
       "      <td>1.0</td>\n",
       "    </tr>\n",
       "    <tr>\n",
       "      <th>...</th>\n",
       "      <td>...</td>\n",
       "      <td>...</td>\n",
       "    </tr>\n",
       "    <tr>\n",
       "      <th>28178</th>\n",
       "      <td>1b30d7dd0f8cf938d7dc</td>\n",
       "      <td>0.0</td>\n",
       "    </tr>\n",
       "    <tr>\n",
       "      <th>28181</th>\n",
       "      <td>64e272dfcf2db4b4d4af</td>\n",
       "      <td>0.0</td>\n",
       "    </tr>\n",
       "    <tr>\n",
       "      <th>28182</th>\n",
       "      <td>77787842a915e581e2b6</td>\n",
       "      <td>0.0</td>\n",
       "    </tr>\n",
       "    <tr>\n",
       "      <th>28183</th>\n",
       "      <td>c618a52c75a225593871</td>\n",
       "      <td>0.0</td>\n",
       "    </tr>\n",
       "    <tr>\n",
       "      <th>28184</th>\n",
       "      <td>705da72519aee5e63432</td>\n",
       "      <td>0.0</td>\n",
       "    </tr>\n",
       "  </tbody>\n",
       "</table>\n",
       "<p>3235 rows × 2 columns</p>\n",
       "</div>"
      ],
      "text/plain": [
       "                       CARD  LABEL\n",
       "0      009e24d27d670b24a73d    1.0\n",
       "3      034ae47f44e914cb7ee6    1.0\n",
       "4      0b2c8a4c5e9a0b1546ee    1.0\n",
       "5      0cdf22b047d079e06299    1.0\n",
       "6      0cf173146d0cdb62a209    1.0\n",
       "...                     ...    ...\n",
       "28178  1b30d7dd0f8cf938d7dc    0.0\n",
       "28181  64e272dfcf2db4b4d4af    0.0\n",
       "28182  77787842a915e581e2b6    0.0\n",
       "28183  c618a52c75a225593871    0.0\n",
       "28184  705da72519aee5e63432    0.0\n",
       "\n",
       "[3235 rows x 2 columns]"
      ]
     },
     "execution_count": 11,
     "metadata": {},
     "output_type": "execute_result"
    }
   ],
   "source": [
    "train.drop('DATE',axis=1,inplace=True)\n",
    "train = train.drop_duplicates()\n",
    "train"
   ]
  },
  {
   "cell_type": "code",
   "execution_count": 12,
   "id": "5ffe00f5",
   "metadata": {},
   "outputs": [
    {
     "data": {
      "text/plain": [
       "1.0    1612\n",
       "2.0     909\n",
       "0.0     714\n",
       "Name: LABEL, dtype: int64"
      ]
     },
     "execution_count": 12,
     "metadata": {},
     "output_type": "execute_result"
    }
   ],
   "source": [
    "train['LABEL'].value_counts()"
   ]
  },
  {
   "cell_type": "code",
   "execution_count": 13,
   "id": "fef154eb",
   "metadata": {},
   "outputs": [
    {
     "data": {
      "text/plain": [
       "5595"
      ]
     },
     "execution_count": 13,
     "metadata": {},
     "output_type": "execute_result"
    }
   ],
   "source": [
    "evaluation['CARD'].nunique()"
   ]
  },
  {
   "cell_type": "code",
   "execution_count": 14,
   "id": "5fe5f471",
   "metadata": {},
   "outputs": [
    {
     "data": {
      "text/plain": [
       "(5595, 1)"
      ]
     },
     "execution_count": 14,
     "metadata": {},
     "output_type": "execute_result"
    }
   ],
   "source": [
    "evaluation.drop('DATE',axis=1,inplace=True)\n",
    "evaluation = evaluation.drop_duplicates()\n",
    "evaluation.shape"
   ]
  },
  {
   "cell_type": "code",
   "execution_count": 15,
   "id": "49953aa7",
   "metadata": {},
   "outputs": [],
   "source": [
    "evaluation['LABEL'] = 'unknown'"
   ]
  },
  {
   "cell_type": "code",
   "execution_count": 16,
   "id": "97d70b57",
   "metadata": {},
   "outputs": [],
   "source": [
    "train_cards = train['CARD'].unique().tolist()\n",
    "evaluation_cards = evaluation['CARD'].unique().tolist()"
   ]
  },
  {
   "cell_type": "code",
   "execution_count": 17,
   "id": "6bae4bbd",
   "metadata": {},
   "outputs": [
    {
     "data": {
      "text/plain": [
       "8830"
      ]
     },
     "execution_count": 17,
     "metadata": {},
     "output_type": "execute_result"
    }
   ],
   "source": [
    "df_labels = pd.concat([evaluation, train], ignore_index=True)\n",
    "df_labels= df_labels.drop_duplicates()\n",
    "all_cards = df_labels['CARD'].unique().tolist()\n",
    "len(all_cards)"
   ]
  },
  {
   "cell_type": "code",
   "execution_count": 18,
   "id": "fdc04814",
   "metadata": {},
   "outputs": [
    {
     "data": {
      "text/plain": [
       "unknown    5595\n",
       "1.0        1612\n",
       "2.0         909\n",
       "0.0         714\n",
       "Name: LABEL, dtype: int64"
      ]
     },
     "execution_count": 18,
     "metadata": {},
     "output_type": "execute_result"
    }
   ],
   "source": [
    "df_labels['LABEL'].value_counts()"
   ]
  },
  {
   "cell_type": "code",
   "execution_count": 19,
   "id": "5a499b88",
   "metadata": {},
   "outputs": [
    {
     "data": {
      "image/png": "[encoded data removed]",
      "text/plain": [
       "<Figure size 1440x864 with 1 Axes>"
      ]
     },
     "metadata": {},
     "output_type": "display_data"
    }
   ],
   "source": [
    "value_counts = df_labels['LABEL'].value_counts()\n",
    "# Plot a pie chart\n",
    "plt.figure(figsize=(20, 12))\n",
    "plt.pie(value_counts, labels=value_counts.index, autopct='%1.1f%%', startangle=140)\n",
    "plt.title('Pie Chart of Unique Labels')\n",
    "plt.show()"
   ]
  },
  {
   "cell_type": "code",
   "execution_count": 20,
   "id": "361bdf9e",
   "metadata": {},
   "outputs": [
    {
     "data": {
      "text/plain": [
       "0"
      ]
     },
     "execution_count": 20,
     "metadata": {},
     "output_type": "execute_result"
    }
   ],
   "source": [
    "set1 = set(evaluation['CARD'].tolist())\n",
    "set2 = set(train['CARD'].tolist())\n",
    "# Find the common elements\n",
    "common_elements = set1.intersection(set2)\n",
    "common_elements_list = list(common_elements)\n",
    "len(common_elements_list)"
   ]
  },
  {
   "cell_type": "markdown",
   "id": "67c1d166",
   "metadata": {},
   "source": [
    "**Dataset Overview:** <br/>\n",
    "The dataset comprises 3,235 unique credit cards in the training set and 5,595 unique credit cards in the test set, bringing the total to 8,830 credit cards. Notably, these credit cards are not associated with specific dates or any other identifiable information. The objective is to develop a classification model to categorize these credit cards effectively."
   ]
  },
  {
   "cell_type": "markdown",
   "id": "f78d7ad2",
   "metadata": {},
   "source": [
    "# \n",
    "**Transactions**"
   ]
  },
  {
   "cell_type": "code",
   "execution_count": 21,
   "id": "e5a3f217",
   "metadata": {},
   "outputs": [
    {
     "data": {
      "text/html": [
       "<div>\n",
       "<style scoped>\n",
       "    .dataframe tbody tr th:only-of-type {\n",
       "        vertical-align: middle;\n",
       "    }\n",
       "\n",
       "    .dataframe tbody tr th {\n",
       "        vertical-align: top;\n",
       "    }\n",
       "\n",
       "    .dataframe thead th {\n",
       "        text-align: right;\n",
       "    }\n",
       "</style>\n",
       "<table border=\"1\" class=\"dataframe\">\n",
       "  <thead>\n",
       "    <tr style=\"text-align: right;\">\n",
       "      <th></th>\n",
       "      <th>Primary_ID</th>\n",
       "      <th>TRX_Type</th>\n",
       "      <th>Date</th>\n",
       "      <th>Time</th>\n",
       "      <th>Amount</th>\n",
       "      <th>Terminal_Type</th>\n",
       "      <th>Terminal_ID</th>\n",
       "      <th>Second_ID</th>\n",
       "    </tr>\n",
       "  </thead>\n",
       "  <tbody>\n",
       "    <tr>\n",
       "      <th>0</th>\n",
       "      <td>9c2594cdb4153de3f748</td>\n",
       "      <td>10</td>\n",
       "      <td>2023/06/02 00:00:00</td>\n",
       "      <td>203918290</td>\n",
       "      <td>11518977.0</td>\n",
       "      <td>7</td>\n",
       "      <td>d7b0230e4491fbd3563a</td>\n",
       "      <td>3de4bc60f38a51a82365</td>\n",
       "    </tr>\n",
       "    <tr>\n",
       "      <th>1</th>\n",
       "      <td>a8ae04d3b8f155a154af</td>\n",
       "      <td>10</td>\n",
       "      <td>2023/04/03 00:00:00</td>\n",
       "      <td>191720253</td>\n",
       "      <td>5000000.0</td>\n",
       "      <td>1</td>\n",
       "      <td>9a858e74cc2faefbc12c</td>\n",
       "      <td>b4980da1e29f59c92a53</td>\n",
       "    </tr>\n",
       "    <tr>\n",
       "      <th>2</th>\n",
       "      <td>739c869136df74852e10</td>\n",
       "      <td>10</td>\n",
       "      <td>2023/04/29 00:00:00</td>\n",
       "      <td>120418648</td>\n",
       "      <td>2000000.0</td>\n",
       "      <td>1</td>\n",
       "      <td>7cc4db9e78fb590b06a6</td>\n",
       "      <td>69c4a29dd54b44de457e</td>\n",
       "    </tr>\n",
       "    <tr>\n",
       "      <th>3</th>\n",
       "      <td>60366904cbdb0d067c20</td>\n",
       "      <td>10</td>\n",
       "      <td>2023/06/02 00:00:00</td>\n",
       "      <td>201139692</td>\n",
       "      <td>1000000.0</td>\n",
       "      <td>1</td>\n",
       "      <td>342abaad6ca26a8aea1e</td>\n",
       "      <td>a59ad5aa2a2b5e221572</td>\n",
       "    </tr>\n",
       "    <tr>\n",
       "      <th>4</th>\n",
       "      <td>911abef1ee23db40b108</td>\n",
       "      <td>10</td>\n",
       "      <td>2023/03/22 00:00:00</td>\n",
       "      <td>81928260</td>\n",
       "      <td>50000.0</td>\n",
       "      <td>7</td>\n",
       "      <td>3381cb32e729571bfdfe</td>\n",
       "      <td>8457468be95f8a197756</td>\n",
       "    </tr>\n",
       "    <tr>\n",
       "      <th>...</th>\n",
       "      <td>...</td>\n",
       "      <td>...</td>\n",
       "      <td>...</td>\n",
       "      <td>...</td>\n",
       "      <td>...</td>\n",
       "      <td>...</td>\n",
       "      <td>...</td>\n",
       "      <td>...</td>\n",
       "    </tr>\n",
       "    <tr>\n",
       "      <th>3259421</th>\n",
       "      <td>6f743892923ae636c1ac</td>\n",
       "      <td>10</td>\n",
       "      <td>2023/03/15 00:00:00</td>\n",
       "      <td>204954592</td>\n",
       "      <td>1000000.0</td>\n",
       "      <td>1</td>\n",
       "      <td>4ff68720afddc796c9fb</td>\n",
       "      <td>42057e17833b83f303f4</td>\n",
       "    </tr>\n",
       "    <tr>\n",
       "      <th>3259422</th>\n",
       "      <td>6f743892923ae636c1ac</td>\n",
       "      <td>10</td>\n",
       "      <td>2023/03/25 00:00:00</td>\n",
       "      <td>203016269</td>\n",
       "      <td>2000000.0</td>\n",
       "      <td>1</td>\n",
       "      <td>4ff68720afddc796c9fb</td>\n",
       "      <td>281b90d9fdcc285cca2e</td>\n",
       "    </tr>\n",
       "    <tr>\n",
       "      <th>3259423</th>\n",
       "      <td>6f743892923ae636c1ac</td>\n",
       "      <td>10</td>\n",
       "      <td>2023/03/30 00:00:00</td>\n",
       "      <td>121006398</td>\n",
       "      <td>1000000.0</td>\n",
       "      <td>1</td>\n",
       "      <td>4ff68720afddc796c9fb</td>\n",
       "      <td>e32ec72f1bb0e39f0ea3</td>\n",
       "    </tr>\n",
       "    <tr>\n",
       "      <th>3259424</th>\n",
       "      <td>6f743892923ae636c1ac</td>\n",
       "      <td>10</td>\n",
       "      <td>2023/04/10 00:00:00</td>\n",
       "      <td>213227613</td>\n",
       "      <td>1000000.0</td>\n",
       "      <td>1</td>\n",
       "      <td>4ff68720afddc796c9fb</td>\n",
       "      <td>071b8737ef9df9a13712</td>\n",
       "    </tr>\n",
       "    <tr>\n",
       "      <th>3259425</th>\n",
       "      <td>6f743892923ae636c1ac</td>\n",
       "      <td>10</td>\n",
       "      <td>2023/04/18 00:00:00</td>\n",
       "      <td>163935352</td>\n",
       "      <td>1000000.0</td>\n",
       "      <td>1</td>\n",
       "      <td>4ff68720afddc796c9fb</td>\n",
       "      <td>375d739376a7d17c7b94</td>\n",
       "    </tr>\n",
       "  </tbody>\n",
       "</table>\n",
       "<p>3259426 rows × 8 columns</p>\n",
       "</div>"
      ],
      "text/plain": [
       "                   Primary_ID  TRX_Type                 Date       Time  \\\n",
       "0        9c2594cdb4153de3f748        10  2023/06/02 00:00:00  203918290   \n",
       "1        a8ae04d3b8f155a154af        10  2023/04/03 00:00:00  191720253   \n",
       "2        739c869136df74852e10        10  2023/04/29 00:00:00  120418648   \n",
       "3        60366904cbdb0d067c20        10  2023/06/02 00:00:00  201139692   \n",
       "4        911abef1ee23db40b108        10  2023/03/22 00:00:00   81928260   \n",
       "...                       ...       ...                  ...        ...   \n",
       "3259421  6f743892923ae636c1ac        10  2023/03/15 00:00:00  204954592   \n",
       "3259422  6f743892923ae636c1ac        10  2023/03/25 00:00:00  203016269   \n",
       "3259423  6f743892923ae636c1ac        10  2023/03/30 00:00:00  121006398   \n",
       "3259424  6f743892923ae636c1ac        10  2023/04/10 00:00:00  213227613   \n",
       "3259425  6f743892923ae636c1ac        10  2023/04/18 00:00:00  163935352   \n",
       "\n",
       "             Amount  Terminal_Type           Terminal_ID             Second_ID  \n",
       "0        11518977.0              7  d7b0230e4491fbd3563a  3de4bc60f38a51a82365  \n",
       "1         5000000.0              1  9a858e74cc2faefbc12c  b4980da1e29f59c92a53  \n",
       "2         2000000.0              1  7cc4db9e78fb590b06a6  69c4a29dd54b44de457e  \n",
       "3         1000000.0              1  342abaad6ca26a8aea1e  a59ad5aa2a2b5e221572  \n",
       "4           50000.0              7  3381cb32e729571bfdfe  8457468be95f8a197756  \n",
       "...             ...            ...                   ...                   ...  \n",
       "3259421   1000000.0              1  4ff68720afddc796c9fb  42057e17833b83f303f4  \n",
       "3259422   2000000.0              1  4ff68720afddc796c9fb  281b90d9fdcc285cca2e  \n",
       "3259423   1000000.0              1  4ff68720afddc796c9fb  e32ec72f1bb0e39f0ea3  \n",
       "3259424   1000000.0              1  4ff68720afddc796c9fb  071b8737ef9df9a13712  \n",
       "3259425   1000000.0              1  4ff68720afddc796c9fb  375d739376a7d17c7b94  \n",
       "\n",
       "[3259426 rows x 8 columns]"
      ]
     },
     "execution_count": 21,
     "metadata": {},
     "output_type": "execute_result"
    }
   ],
   "source": [
    "transactions"
   ]
  },
  {
   "cell_type": "code",
   "execution_count": 23,
   "id": "e87de569",
   "metadata": {},
   "outputs": [
    {
     "data": {
      "text/plain": [
       "(3259426, 8)"
      ]
     },
     "execution_count": 23,
     "metadata": {},
     "output_type": "execute_result"
    }
   ],
   "source": [
    "transactions = transactions.drop_duplicates()\n",
    "transactions.shape"
   ]
  },
  {
   "cell_type": "markdown",
   "id": "b8bd64fc",
   "metadata": {},
   "source": [
    "No Duplicated Value"
   ]
  },
  {
   "cell_type": "code",
   "execution_count": 24,
   "id": "91d3e883",
   "metadata": {},
   "outputs": [],
   "source": [
    "# Checkout transaction count for each of the 8830 cards.\n",
    "# Note: This operation may take some time due to the large number of cards.\n",
    "data = []\n",
    "for card in all_cards:\n",
    "    num_transaction = len(transactions[(transactions['Primary_ID'] == card) | (transactions['Second_ID'] == card)])\n",
    "    data.append({'Card': card, 'num_transaction': num_transaction})\n",
    "num_transaction = pd.DataFrame(data)"
   ]
  },
  {
   "cell_type": "code",
   "execution_count": 25,
   "id": "211a2292",
   "metadata": {},
   "outputs": [
    {
     "data": {
      "text/html": [
       "<div>\n",
       "<style scoped>\n",
       "    .dataframe tbody tr th:only-of-type {\n",
       "        vertical-align: middle;\n",
       "    }\n",
       "\n",
       "    .dataframe tbody tr th {\n",
       "        vertical-align: top;\n",
       "    }\n",
       "\n",
       "    .dataframe thead th {\n",
       "        text-align: right;\n",
       "    }\n",
       "</style>\n",
       "<table border=\"1\" class=\"dataframe\">\n",
       "  <thead>\n",
       "    <tr style=\"text-align: right;\">\n",
       "      <th></th>\n",
       "      <th>Card</th>\n",
       "      <th>num_transaction</th>\n",
       "    </tr>\n",
       "  </thead>\n",
       "  <tbody>\n",
       "    <tr>\n",
       "      <th>0</th>\n",
       "      <td>8e408f075b6872605906</td>\n",
       "      <td>379</td>\n",
       "    </tr>\n",
       "    <tr>\n",
       "      <th>1</th>\n",
       "      <td>2c8ab490002745919e9a</td>\n",
       "      <td>48</td>\n",
       "    </tr>\n",
       "    <tr>\n",
       "      <th>2</th>\n",
       "      <td>03fe8857991d2994fbf9</td>\n",
       "      <td>472</td>\n",
       "    </tr>\n",
       "    <tr>\n",
       "      <th>3</th>\n",
       "      <td>a41d87398962952dc6e2</td>\n",
       "      <td>301</td>\n",
       "    </tr>\n",
       "    <tr>\n",
       "      <th>4</th>\n",
       "      <td>a5a2a8417f671a395c38</td>\n",
       "      <td>961</td>\n",
       "    </tr>\n",
       "    <tr>\n",
       "      <th>...</th>\n",
       "      <td>...</td>\n",
       "      <td>...</td>\n",
       "    </tr>\n",
       "    <tr>\n",
       "      <th>8825</th>\n",
       "      <td>1b30d7dd0f8cf938d7dc</td>\n",
       "      <td>58</td>\n",
       "    </tr>\n",
       "    <tr>\n",
       "      <th>8826</th>\n",
       "      <td>64e272dfcf2db4b4d4af</td>\n",
       "      <td>10</td>\n",
       "    </tr>\n",
       "    <tr>\n",
       "      <th>8827</th>\n",
       "      <td>77787842a915e581e2b6</td>\n",
       "      <td>10</td>\n",
       "    </tr>\n",
       "    <tr>\n",
       "      <th>8828</th>\n",
       "      <td>c618a52c75a225593871</td>\n",
       "      <td>12</td>\n",
       "    </tr>\n",
       "    <tr>\n",
       "      <th>8829</th>\n",
       "      <td>705da72519aee5e63432</td>\n",
       "      <td>16</td>\n",
       "    </tr>\n",
       "  </tbody>\n",
       "</table>\n",
       "<p>8830 rows × 2 columns</p>\n",
       "</div>"
      ],
      "text/plain": [
       "                      Card  num_transaction\n",
       "0     8e408f075b6872605906              379\n",
       "1     2c8ab490002745919e9a               48\n",
       "2     03fe8857991d2994fbf9              472\n",
       "3     a41d87398962952dc6e2              301\n",
       "4     a5a2a8417f671a395c38              961\n",
       "...                    ...              ...\n",
       "8825  1b30d7dd0f8cf938d7dc               58\n",
       "8826  64e272dfcf2db4b4d4af               10\n",
       "8827  77787842a915e581e2b6               10\n",
       "8828  c618a52c75a225593871               12\n",
       "8829  705da72519aee5e63432               16\n",
       "\n",
       "[8830 rows x 2 columns]"
      ]
     },
     "execution_count": 25,
     "metadata": {},
     "output_type": "execute_result"
    }
   ],
   "source": [
    "num_transaction"
   ]
  },
  {
   "cell_type": "code",
   "execution_count": 26,
   "id": "34588caf",
   "metadata": {},
   "outputs": [
    {
     "data": {
      "text/html": [
       "<div>\n",
       "<style scoped>\n",
       "    .dataframe tbody tr th:only-of-type {\n",
       "        vertical-align: middle;\n",
       "    }\n",
       "\n",
       "    .dataframe tbody tr th {\n",
       "        vertical-align: top;\n",
       "    }\n",
       "\n",
       "    .dataframe thead th {\n",
       "        text-align: right;\n",
       "    }\n",
       "</style>\n",
       "<table border=\"1\" class=\"dataframe\">\n",
       "  <thead>\n",
       "    <tr style=\"text-align: right;\">\n",
       "      <th></th>\n",
       "      <th>count</th>\n",
       "      <th>mean</th>\n",
       "      <th>std</th>\n",
       "      <th>min</th>\n",
       "      <th>25%</th>\n",
       "      <th>50%</th>\n",
       "      <th>75%</th>\n",
       "      <th>max</th>\n",
       "    </tr>\n",
       "  </thead>\n",
       "  <tbody>\n",
       "    <tr>\n",
       "      <th>num_transaction</th>\n",
       "      <td>8830.0</td>\n",
       "      <td>370.303624</td>\n",
       "      <td>2374.859204</td>\n",
       "      <td>1.0</td>\n",
       "      <td>33.0</td>\n",
       "      <td>90.0</td>\n",
       "      <td>271.0</td>\n",
       "      <td>151451.0</td>\n",
       "    </tr>\n",
       "  </tbody>\n",
       "</table>\n",
       "</div>"
      ],
      "text/plain": [
       "                  count        mean          std  min   25%   50%    75%  \\\n",
       "num_transaction  8830.0  370.303624  2374.859204  1.0  33.0  90.0  271.0   \n",
       "\n",
       "                      max  \n",
       "num_transaction  151451.0  "
      ]
     },
     "execution_count": 26,
     "metadata": {},
     "output_type": "execute_result"
    },
    {
     "data": {
      "image/png": "[encoded data removed]",
      "text/plain": [
       "<Figure size 1440x1296 with 2 Axes>"
      ]
     },
     "metadata": {
      "needs_background": "light"
     },
     "output_type": "display_data"
    }
   ],
   "source": [
    "featureAnalysis('num_transaction',num_transaction)"
   ]
  },
  {
   "cell_type": "code",
   "execution_count": 30,
   "id": "dec89d33",
   "metadata": {},
   "outputs": [],
   "source": [
    "num_transaction.to_csv('num_transaction.csv', index=False)"
   ]
  },
  {
   "cell_type": "code",
   "execution_count": 33,
   "id": "86c82d94",
   "metadata": {},
   "outputs": [
    {
     "data": {
      "text/plain": [
       "Primary_ID            0\n",
       "TRX_Type              0\n",
       "Date                  0\n",
       "Time                  0\n",
       "Amount                0\n",
       "Terminal_Type         0\n",
       "Terminal_ID           0\n",
       "Second_ID        127382\n",
       "dtype: int64"
      ]
     },
     "execution_count": 33,
     "metadata": {},
     "output_type": "execute_result"
    }
   ],
   "source": [
    "transactions.isnull().sum()"
   ]
  },
  {
   "cell_type": "code",
   "execution_count": 34,
   "id": "f7aab862",
   "metadata": {},
   "outputs": [],
   "source": [
    "transactions.dropna(inplace=True)"
   ]
  },
  {
   "cell_type": "code",
   "execution_count": 36,
   "id": "dac07872",
   "metadata": {},
   "outputs": [
    {
     "name": "stderr",
     "output_type": "stream",
     "text": [
      "Processing Cards: 100%|██████████████████████████████████████████████████████████| 8830/8830 [1:49:28<00:00,  1.34it/s]\n"
     ]
    }
   ],
   "source": [
    "data = []\n",
    "for card in tqdm(all_cards, desc=\"Processing Cards\"):\n",
    "    num_transaction = len(transactions[(transactions['Primary_ID'] == card) | (transactions['Second_ID'] == card)])\n",
    "    data.append({'Card': card, 'num_transaction': num_transaction})"
   ]
  },
  {
   "cell_type": "code",
   "execution_count": 37,
   "id": "a182d2e3",
   "metadata": {},
   "outputs": [],
   "source": [
    "num_transaction = pd.DataFrame(data)"
   ]
  },
  {
   "cell_type": "code",
   "execution_count": 39,
   "id": "22c693f7",
   "metadata": {},
   "outputs": [
    {
     "data": {
      "text/html": [
       "<div>\n",
       "<style scoped>\n",
       "    .dataframe tbody tr th:only-of-type {\n",
       "        vertical-align: middle;\n",
       "    }\n",
       "\n",
       "    .dataframe tbody tr th {\n",
       "        vertical-align: top;\n",
       "    }\n",
       "\n",
       "    .dataframe thead th {\n",
       "        text-align: right;\n",
       "    }\n",
       "</style>\n",
       "<table border=\"1\" class=\"dataframe\">\n",
       "  <thead>\n",
       "    <tr style=\"text-align: right;\">\n",
       "      <th></th>\n",
       "      <th>count</th>\n",
       "      <th>mean</th>\n",
       "      <th>std</th>\n",
       "      <th>min</th>\n",
       "      <th>25%</th>\n",
       "      <th>50%</th>\n",
       "      <th>75%</th>\n",
       "      <th>max</th>\n",
       "    </tr>\n",
       "  </thead>\n",
       "  <tbody>\n",
       "    <tr>\n",
       "      <th>num_transaction</th>\n",
       "      <td>8830.0</td>\n",
       "      <td>355.877576</td>\n",
       "      <td>2373.031983</td>\n",
       "      <td>0.0</td>\n",
       "      <td>23.0</td>\n",
       "      <td>78.0</td>\n",
       "      <td>256.0</td>\n",
       "      <td>151451.0</td>\n",
       "    </tr>\n",
       "  </tbody>\n",
       "</table>\n",
       "</div>"
      ],
      "text/plain": [
       "                  count        mean          std  min   25%   50%    75%  \\\n",
       "num_transaction  8830.0  355.877576  2373.031983  0.0  23.0  78.0  256.0   \n",
       "\n",
       "                      max  \n",
       "num_transaction  151451.0  "
      ]
     },
     "execution_count": 39,
     "metadata": {},
     "output_type": "execute_result"
    },
    {
     "data": {
      "image/png": "[encoded data removed]",
      "text/plain": [
       "<Figure size 1440x1296 with 2 Axes>"
      ]
     },
     "metadata": {
      "needs_background": "light"
     },
     "output_type": "display_data"
    }
   ],
   "source": [
    "featureAnalysis('num_transaction' , num_transaction)"
   ]
  },
  {
   "cell_type": "code",
   "execution_count": 43,
   "id": "9430239c",
   "metadata": {},
   "outputs": [
    {
     "name": "stdout",
     "output_type": "stream",
     "text": [
      "No transaction in  128  Cards !\n",
      "47  in train dataset and  81  in evaluation!\n"
     ]
    }
   ],
   "source": [
    "print(\"No transaction in \" , len(num_transaction[num_transaction['num_transaction'] == 0]['Card'].tolist()), \" Cards !\")\n",
    "# separately for both the training and evaluation sets.\n",
    "count_train = 0\n",
    "count_evaluation = 0\n",
    "for card in num_transaction[num_transaction['num_transaction'] == 0]['Card'].tolist():\n",
    "    if card in evaluation_cards:\n",
    "        count_evaluation = count_evaluation + 1 \n",
    "    elif card in train_cards:\n",
    "        count_train = count_train + 1 \n",
    "print(count_train , \" in train dataset and \" , count_evaluation , \" in evaluation!\")"
   ]
  },
  {
   "cell_type": "markdown",
   "id": "ae89c71b",
   "metadata": {},
   "source": [
    "We lack data for 47 cards in the training set and 81 cards in the test set. Consequently, these records cannot be utilized for model training and evaluation."
   ]
  },
  {
   "cell_type": "code",
   "execution_count": 44,
   "id": "7a9d232c",
   "metadata": {},
   "outputs": [
    {
     "name": "stdout",
     "output_type": "stream",
     "text": [
      "Unique primary ID  1165758\n",
      "Unique Second ID  36937\n"
     ]
    }
   ],
   "source": [
    "print(\"Unique primary ID \" ,transactions['Primary_ID'].nunique())\n",
    "print(\"Unique Second ID \" ,transactions['Second_ID'].nunique())"
   ]
  },
  {
   "cell_type": "code",
   "execution_count": 45,
   "id": "a9f3f84b",
   "metadata": {},
   "outputs": [
    {
     "data": {
      "text/plain": [
       "unknown    5595\n",
       "1.0        1612\n",
       "2.0         909\n",
       "0.0         714\n",
       "Name: LABEL, dtype: int64"
      ]
     },
     "execution_count": 45,
     "metadata": {},
     "output_type": "execute_result"
    }
   ],
   "source": [
    "#Evaluation and train dataset \n",
    "df_labels['LABEL'].value_counts()"
   ]
  },
  {
   "cell_type": "code",
   "execution_count": 46,
   "id": "4c29613b",
   "metadata": {},
   "outputs": [],
   "source": [
    "my_dict = dict(zip(df_labels['CARD'], df_labels['LABEL']))"
   ]
  },
  {
   "cell_type": "code",
   "execution_count": 47,
   "id": "2e889a71",
   "metadata": {},
   "outputs": [],
   "source": [
    "#Use them to label transactions based on primary and second id \n",
    "transactions['labelPrimary'] = transactions['Primary_ID'].map(my_dict)\n",
    "transactions['labelSecond']  = transactions['Second_ID'].map(my_dict)"
   ]
  },
  {
   "cell_type": "code",
   "execution_count": 48,
   "id": "ab59a0c6",
   "metadata": {},
   "outputs": [
    {
     "data": {
      "text/plain": [
       "Primary_ID             0\n",
       "TRX_Type               0\n",
       "Date                   0\n",
       "Time                   0\n",
       "Amount                 0\n",
       "Terminal_Type          0\n",
       "Terminal_ID            0\n",
       "Second_ID              0\n",
       "labelPrimary     3076150\n",
       "labelSecond        45539\n",
       "dtype: int64"
      ]
     },
     "execution_count": 48,
     "metadata": {},
     "output_type": "execute_result"
    }
   ],
   "source": [
    "#Checkout null values\n",
    "transactions.isnull().sum()"
   ]
  },
  {
   "cell_type": "code",
   "execution_count": 49,
   "id": "6e8e954b",
   "metadata": {},
   "outputs": [
    {
     "name": "stdout",
     "output_type": "stream",
     "text": [
      "null values of labelPrimary :  0.9821541459826235\n",
      "null values of labelSecond  :  0.014539706338735981\n"
     ]
    }
   ],
   "source": [
    "print('null values of labelPrimary : ',transactions.isnull().sum()['labelPrimary'] / len(transactions))\n",
    "print('null values of labelSecond  : ',transactions.isnull().sum()['labelSecond']   / len(transactions))"
   ]
  },
  {
   "cell_type": "code",
   "execution_count": null,
   "id": "a98645b5",
   "metadata": {},
   "outputs": [],
   "source": [
    "# #Drop null value in labelSecond\n",
    "# transactions.dropna(subset=['labelSecond'],inplace=True)"
   ]
  },
  {
   "cell_type": "code",
   "execution_count": 50,
   "id": "9ba32731",
   "metadata": {},
   "outputs": [],
   "source": [
    "#fill null values with no info\n",
    "transactions['labelSecond'] = transactions['labelSecond'].fillna('no_info')\n",
    "transactions['labelPrimary'] = transactions['labelPrimary'].fillna('no_info')"
   ]
  },
  {
   "cell_type": "code",
   "execution_count": 51,
   "id": "6a169735",
   "metadata": {},
   "outputs": [
    {
     "data": {
      "text/plain": [
       "Primary_ID       0\n",
       "TRX_Type         0\n",
       "Date             0\n",
       "Time             0\n",
       "Amount           0\n",
       "Terminal_Type    0\n",
       "Terminal_ID      0\n",
       "Second_ID        0\n",
       "labelPrimary     0\n",
       "labelSecond      0\n",
       "dtype: int64"
      ]
     },
     "execution_count": 51,
     "metadata": {},
     "output_type": "execute_result"
    }
   ],
   "source": [
    "transactions.isnull().sum()"
   ]
  },
  {
   "cell_type": "markdown",
   "id": "ba8d21b9",
   "metadata": {},
   "source": [
    "# "
   ]
  },
  {
   "cell_type": "markdown",
   "id": "0b1a27da",
   "metadata": {},
   "source": [
    "<a name=\"2\"></a>\n",
    "## Features\n",
    "- [TRX_Type](#2.1)\n",
    "- [Date](#2.2)\n",
    "- [Time](#2.3)\n",
    "- [Amount](#2.4)\n",
    "- [Terminal_Type](#2.5)\n",
    "- [Terminal_ID](#2.6)\n"
   ]
  },
  {
   "cell_type": "code",
   "execution_count": 52,
   "id": "1e1835c1",
   "metadata": {},
   "outputs": [
    {
     "name": "stdout",
     "output_type": "stream",
     "text": [
      "<class 'pandas.core.frame.DataFrame'>\n",
      "Int64Index: 3132044 entries, 0 to 3259425\n",
      "Data columns (total 10 columns):\n",
      " #   Column         Dtype  \n",
      "---  ------         -----  \n",
      " 0   Primary_ID     object \n",
      " 1   TRX_Type       int64  \n",
      " 2   Date           object \n",
      " 3   Time           int64  \n",
      " 4   Amount         float64\n",
      " 5   Terminal_Type  int64  \n",
      " 6   Terminal_ID    object \n",
      " 7   Second_ID      object \n",
      " 8   labelPrimary   object \n",
      " 9   labelSecond    object \n",
      "dtypes: float64(1), int64(3), object(6)\n",
      "memory usage: 262.9+ MB\n"
     ]
    }
   ],
   "source": [
    "transactions.info()"
   ]
  },
  {
   "cell_type": "code",
   "execution_count": 53,
   "id": "56d7d3b5",
   "metadata": {},
   "outputs": [],
   "source": [
    "encodeData = transactions.copy()"
   ]
  },
  {
   "cell_type": "markdown",
   "id": "dd82a56a",
   "metadata": {},
   "source": [
    "<a name=\"2.1\"></a>\n",
    "- TRX_Type"
   ]
  },
  {
   "cell_type": "code",
   "execution_count": 54,
   "id": "0511393b",
   "metadata": {},
   "outputs": [
    {
     "data": {
      "text/plain": [
       "10    3132044\n",
       "Name: TRX_Type, dtype: int64"
      ]
     },
     "execution_count": 54,
     "metadata": {},
     "output_type": "execute_result"
    }
   ],
   "source": [
    "transactions['TRX_Type'].value_counts()"
   ]
  },
  {
   "cell_type": "code",
   "execution_count": 55,
   "id": "0d574d90",
   "metadata": {},
   "outputs": [],
   "source": [
    "#since there's only one unique value\n",
    "encodeData = transactions.drop('TRX_Type',axis=1)"
   ]
  },
  {
   "cell_type": "markdown",
   "id": "8d960da2",
   "metadata": {},
   "source": [
    "<a name=\"2.2\"></a>\n",
    "- Date"
   ]
  },
  {
   "cell_type": "code",
   "execution_count": 56,
   "id": "d6446198",
   "metadata": {},
   "outputs": [],
   "source": [
    "#Convert Date to time stamp \n",
    "encodeData['timestamp'] = pd.to_datetime(encodeData['Date'])\n",
    "encodeData['year']   = encodeData['timestamp'].dt.year\n",
    "encodeData['month']  = encodeData['timestamp'].dt.month\n",
    "encodeData['day']    = encodeData['timestamp'].dt.day\n",
    "encodeData['hour']   = encodeData['timestamp'].dt.hour\n",
    "encodeData['minute'] = encodeData['timestamp'].dt.minute\n",
    "encodeData['second'] = encodeData['timestamp'].dt.second"
   ]
  },
  {
   "cell_type": "code",
   "execution_count": 57,
   "id": "33a6a623",
   "metadata": {},
   "outputs": [
    {
     "name": "stdout",
     "output_type": "stream",
     "text": [
      "1.0\n",
      "1.0\n",
      "1.0\n",
      "1.0\n"
     ]
    }
   ],
   "source": [
    "print(encodeData['hour'].value_counts()[0]/len(encodeData))  \n",
    "print(encodeData['minute'].value_counts()[0]/len(encodeData)) \n",
    "print(encodeData['second'].value_counts()[0]/len(encodeData)) \n",
    "print(encodeData['year'].value_counts()[2023]/len(encodeData))  "
   ]
  },
  {
   "cell_type": "code",
   "execution_count": 60,
   "id": "36343b89",
   "metadata": {},
   "outputs": [],
   "source": [
    "# These features cannot be extracted from this column (the time in the Date column is always 00:00:00).\n",
    "# Since all transactions are in the year 2023, we can drop the year column.\n",
    "encodeData.drop(['hour','minute','second','Date','year'],axis=1,inplace=True)"
   ]
  },
  {
   "cell_type": "code",
   "execution_count": 61,
   "id": "d91719fa",
   "metadata": {},
   "outputs": [
    {
     "data": {
      "image/png": "[encoded data removed]",
      "text/plain": [
       "<Figure size 1440x864 with 2 Axes>"
      ]
     },
     "metadata": {},
     "output_type": "display_data"
    }
   ],
   "source": [
    "month_value_counts = encodeData['month'].value_counts()\n",
    "day_value_counts = encodeData['day'].value_counts()\n",
    "fig, axs = plt.subplots(1, 2, figsize=(20, 12))\n",
    "# Plot the pie chart for 'month'\n",
    "axs[0].pie(month_value_counts, labels=month_value_counts.index, autopct='%1.1f%%', startangle=140)\n",
    "axs[0].set_title('Pie Chart of Unique Labels (Month)')\n",
    "# Plot the pie chart for 'day'\n",
    "axs[1].pie(day_value_counts, labels=day_value_counts.index, autopct='%1.1f%%', startangle=140)\n",
    "axs[1].set_title('Pie Chart of Unique Labels (Day)')\n",
    "plt.tight_layout()\n",
    "plt.show()"
   ]
  },
  {
   "cell_type": "code",
   "execution_count": 62,
   "id": "39b5f7c9",
   "metadata": {},
   "outputs": [
    {
     "name": "stdout",
     "output_type": "stream",
     "text": [
      "From  2023-03-03 00:00:00  to  2023-06-03 00:00:00\n"
     ]
    }
   ],
   "source": [
    "print('From ' , str(encodeData['timestamp'].min()), ' to ' , str(encodeData['timestamp'].max()))"
   ]
  },
  {
   "cell_type": "markdown",
   "id": "b9e1455a",
   "metadata": {},
   "source": [
    "# "
   ]
  },
  {
   "cell_type": "markdown",
   "id": "4ec0e440",
   "metadata": {},
   "source": [
    "<a name=\"2.3\"></a>\n",
    "- Time"
   ]
  },
  {
   "cell_type": "code",
   "execution_count": null,
   "id": "4dac4ba1",
   "metadata": {},
   "outputs": [],
   "source": [
    "featureAnalysis('Time',encodeData)"
   ]
  },
  {
   "cell_type": "code",
   "execution_count": 72,
   "id": "07917f84",
   "metadata": {},
   "outputs": [],
   "source": [
    "# Convert the 'Time' column to datetime format with millisecond precision\n",
    "encodeData['Time'] = pd.to_datetime(encodeData['Time'], unit='ms')\n",
    "encodeData['Hour'] = encodeData['Time'].dt.hour\n",
    "encodeData['Minute'] = encodeData['Time'].dt.minute\n",
    "encodeData['Second'] = encodeData['Time'].dt.second\n",
    "encodeData['Microsecond'] = encodeData['Time'].dt.microsecond"
   ]
  },
  {
   "cell_type": "code",
   "execution_count": 73,
   "id": "933b07f6",
   "metadata": {},
   "outputs": [
    {
     "data": {
      "text/plain": [
       "10    185999\n",
       "13    183953\n",
       "0     182449\n",
       "2     180473\n",
       "5     179480\n",
       "7     167197\n",
       "8     160941\n",
       "16    149945\n",
       "3     147103\n",
       "4     138206\n",
       "23    135487\n",
       "11    133677\n",
       "6     130174\n",
       "15    120623\n",
       "9     119810\n",
       "1     117614\n",
       "12    111223\n",
       "14    108091\n",
       "21    102163\n",
       "18    100263\n",
       "20     90623\n",
       "17     87984\n",
       "22     51090\n",
       "19     47476\n",
       "Name: Hour, dtype: int64"
      ]
     },
     "execution_count": 73,
     "metadata": {},
     "output_type": "execute_result"
    }
   ],
   "source": [
    "encodeData['Hour'].value_counts()"
   ]
  },
  {
   "cell_type": "code",
   "execution_count": 74,
   "id": "9cce66cd",
   "metadata": {},
   "outputs": [],
   "source": [
    "hour_mean_amount = encodeData.groupby('Hour')['Amount'].mean().to_dict()\n",
    "encodeData['hour_mean_amount'] = encodeData['Hour'].map(hour_mean_amount)"
   ]
  },
  {
   "cell_type": "code",
   "execution_count": 75,
   "id": "c868a44a",
   "metadata": {},
   "outputs": [
    {
     "data": {
      "text/plain": [
       "{0: 7172056.625544673,\n",
       " 1: 7743070.839330352,\n",
       " 2: 6946985.676793759,\n",
       " 3: 6455357.925202069,\n",
       " 4: 7549989.855476608,\n",
       " 5: 6678568.505688656,\n",
       " 6: 6756510.638145866,\n",
       " 7: 7298404.149721586,\n",
       " 8: 6275764.800181433,\n",
       " 9: 7055848.177931725,\n",
       " 10: 6964539.866386378,\n",
       " 11: 5876262.7644620985,\n",
       " 12: 6973028.758754934,\n",
       " 13: 6518307.733013324,\n",
       " 14: 5862899.363573286,\n",
       " 15: 6646526.486864031,\n",
       " 16: 6213975.608743206,\n",
       " 17: 6036591.60526914,\n",
       " 18: 6691965.274667624,\n",
       " 19: 6597425.584042463,\n",
       " 20: 6756720.920858943,\n",
       " 21: 6660163.199759209,\n",
       " 22: 7573531.1495596,\n",
       " 23: 7101789.400769077}"
      ]
     },
     "execution_count": 75,
     "metadata": {},
     "output_type": "execute_result"
    }
   ],
   "source": [
    "hour_mean_amount"
   ]
  },
  {
   "cell_type": "code",
   "execution_count": 76,
   "id": "84ece0d5",
   "metadata": {},
   "outputs": [],
   "source": [
    "encodeData.drop('Time',axis=1,inplace=True)"
   ]
  },
  {
   "cell_type": "code",
   "execution_count": 77,
   "id": "b806b09d",
   "metadata": {},
   "outputs": [],
   "source": [
    "bin_edges = [-1, 2, 5, 8, 11, 14, 17, 20 , 23]\n",
    "bin_labels = [1, 2, 3, 4, 5, 6, 7, 8]\n",
    "encodeData['hour_binned'] = pd.cut(encodeData['Hour'], bins=bin_edges, labels=bin_labels, include_lowest=True)"
   ]
  },
  {
   "cell_type": "code",
   "execution_count": 78,
   "id": "0862dc1f",
   "metadata": {},
   "outputs": [
    {
     "data": {
      "text/plain": [
       "1    480536\n",
       "2    464789\n",
       "3    458312\n",
       "4    439486\n",
       "5    403267\n",
       "6    358552\n",
       "8    288740\n",
       "7    238362\n",
       "Name: hour_binned, dtype: int64"
      ]
     },
     "execution_count": 78,
     "metadata": {},
     "output_type": "execute_result"
    }
   ],
   "source": [
    "encodeData['hour_binned'].value_counts()"
   ]
  },
  {
   "cell_type": "code",
   "execution_count": 79,
   "id": "b71b0d9c",
   "metadata": {},
   "outputs": [],
   "source": [
    "encodeData['hour_binned'] = encodeData['hour_binned'].astype(int)"
   ]
  },
  {
   "cell_type": "code",
   "execution_count": 80,
   "id": "041806d2",
   "metadata": {},
   "outputs": [],
   "source": [
    "hour_binned_mean_amount = encodeData.groupby('hour_binned')['Amount'].mean().to_dict()\n",
    "encodeData['hour_binned_mean_amount'] = encodeData['hour_binned'].map(hour_binned_mean_amount)"
   ]
  },
  {
   "cell_type": "code",
   "execution_count": 81,
   "id": "4104e90b",
   "metadata": {},
   "outputs": [
    {
     "data": {
      "text/plain": [
       "{1: 7227286.694480746,\n",
       " 2: 6867042.658578409,\n",
       " 3: 6785380.171448708,\n",
       " 4: 6658414.143729266,\n",
       " 5: 6468047.46025338,\n",
       " 6: 6315965.363116089,\n",
       " 7: 6697754.723374532,\n",
       " 8: 7029002.216353813}"
      ]
     },
     "execution_count": 81,
     "metadata": {},
     "output_type": "execute_result"
    }
   ],
   "source": [
    "hour_binned_mean_amount"
   ]
  },
  {
   "cell_type": "code",
   "execution_count": 82,
   "id": "940051a2",
   "metadata": {},
   "outputs": [],
   "source": [
    "encodeData['year'] = 2023\n",
    "encodeData['combined_timestamp'] = pd.to_datetime(encodeData[['year','month', 'day', 'Hour', 'Minute', 'Second', 'Microsecond']])\n",
    "encodeData.drop('timestamp',axis=1,inplace=True)"
   ]
  },
  {
   "cell_type": "code",
   "execution_count": 83,
   "id": "cd84263a",
   "metadata": {},
   "outputs": [],
   "source": [
    "encodeData['day_of_week'] = encodeData['combined_timestamp'].dt.dayofweek"
   ]
  },
  {
   "cell_type": "code",
   "execution_count": 84,
   "id": "bc54571e",
   "metadata": {},
   "outputs": [
    {
     "data": {
      "text/plain": [
       "1    505420\n",
       "2    475799\n",
       "4    475074\n",
       "5    469027\n",
       "6    435735\n",
       "3    418099\n",
       "0    352890\n",
       "Name: day_of_week, dtype: int64"
      ]
     },
     "execution_count": 84,
     "metadata": {},
     "output_type": "execute_result"
    }
   ],
   "source": [
    "encodeData['day_of_week'].value_counts()"
   ]
  },
  {
   "cell_type": "code",
   "execution_count": 85,
   "id": "9408482f",
   "metadata": {},
   "outputs": [],
   "source": [
    "day_of_week_mean_amount = encodeData.groupby('day_of_week')['Amount'].mean().to_dict()\n",
    "encodeData['day_of_week_mean_amount'] = encodeData['day_of_week'].map(day_of_week_mean_amount)"
   ]
  },
  {
   "cell_type": "code",
   "execution_count": 86,
   "id": "04738c9e",
   "metadata": {},
   "outputs": [
    {
     "data": {
      "text/plain": [
       "{0: 5845285.036603474,\n",
       " 1: 6935631.210242966,\n",
       " 2: 6841315.159346699,\n",
       " 3: 6923043.558107051,\n",
       " 4: 6985867.497408825,\n",
       " 5: 6923861.785713829,\n",
       " 6: 6691577.917621949}"
      ]
     },
     "execution_count": 86,
     "metadata": {},
     "output_type": "execute_result"
    }
   ],
   "source": [
    "day_of_week_mean_amount"
   ]
  },
  {
   "cell_type": "markdown",
   "id": "bb87f28c",
   "metadata": {},
   "source": [
    "<a name=\"2.4\"></a>\n",
    "- Amount"
   ]
  },
  {
   "cell_type": "code",
   "execution_count": 88,
   "id": "a0c59140",
   "metadata": {},
   "outputs": [
    {
     "data": {
      "text/html": [
       "<div>\n",
       "<style scoped>\n",
       "    .dataframe tbody tr th:only-of-type {\n",
       "        vertical-align: middle;\n",
       "    }\n",
       "\n",
       "    .dataframe tbody tr th {\n",
       "        vertical-align: top;\n",
       "    }\n",
       "\n",
       "    .dataframe thead th {\n",
       "        text-align: right;\n",
       "    }\n",
       "</style>\n",
       "<table border=\"1\" class=\"dataframe\">\n",
       "  <thead>\n",
       "    <tr style=\"text-align: right;\">\n",
       "      <th></th>\n",
       "      <th>count</th>\n",
       "      <th>mean</th>\n",
       "      <th>std</th>\n",
       "      <th>min</th>\n",
       "      <th>25%</th>\n",
       "      <th>50%</th>\n",
       "      <th>75%</th>\n",
       "      <th>max</th>\n",
       "    </tr>\n",
       "  </thead>\n",
       "  <tbody>\n",
       "    <tr>\n",
       "      <th>Amount</th>\n",
       "      <td>3132044.0</td>\n",
       "      <td>6.768677e+06</td>\n",
       "      <td>1.383031e+07</td>\n",
       "      <td>1.0</td>\n",
       "      <td>1000000.0</td>\n",
       "      <td>2000000.0</td>\n",
       "      <td>6000000.0</td>\n",
       "      <td>150000000.0</td>\n",
       "    </tr>\n",
       "  </tbody>\n",
       "</table>\n",
       "</div>"
      ],
      "text/plain": [
       "            count          mean           std  min        25%        50%  \\\n",
       "Amount  3132044.0  6.768677e+06  1.383031e+07  1.0  1000000.0  2000000.0   \n",
       "\n",
       "              75%          max  \n",
       "Amount  6000000.0  150000000.0  "
      ]
     },
     "execution_count": 88,
     "metadata": {},
     "output_type": "execute_result"
    },
    {
     "data": {
      "image/png": "[encoded data removed]",
      "text/plain": [
       "<Figure size 1440x1296 with 2 Axes>"
      ]
     },
     "metadata": {
      "needs_background": "light"
     },
     "output_type": "display_data"
    }
   ],
   "source": [
    "featureAnalysis('Amount',encodeData)"
   ]
  },
  {
   "cell_type": "code",
   "execution_count": 89,
   "id": "47fd6c18",
   "metadata": {},
   "outputs": [],
   "source": [
    "encodeData['log_Amount'] = np.log(encodeData['Amount'])"
   ]
  },
  {
   "cell_type": "code",
   "execution_count": 90,
   "id": "5b59a5b1",
   "metadata": {},
   "outputs": [
    {
     "data": {
      "text/html": [
       "<div>\n",
       "<style scoped>\n",
       "    .dataframe tbody tr th:only-of-type {\n",
       "        vertical-align: middle;\n",
       "    }\n",
       "\n",
       "    .dataframe tbody tr th {\n",
       "        vertical-align: top;\n",
       "    }\n",
       "\n",
       "    .dataframe thead th {\n",
       "        text-align: right;\n",
       "    }\n",
       "</style>\n",
       "<table border=\"1\" class=\"dataframe\">\n",
       "  <thead>\n",
       "    <tr style=\"text-align: right;\">\n",
       "      <th></th>\n",
       "      <th>count</th>\n",
       "      <th>mean</th>\n",
       "      <th>std</th>\n",
       "      <th>min</th>\n",
       "      <th>25%</th>\n",
       "      <th>50%</th>\n",
       "      <th>75%</th>\n",
       "      <th>max</th>\n",
       "    </tr>\n",
       "  </thead>\n",
       "  <tbody>\n",
       "    <tr>\n",
       "      <th>log_Amount</th>\n",
       "      <td>3132044.0</td>\n",
       "      <td>14.627525</td>\n",
       "      <td>1.519028</td>\n",
       "      <td>0.0</td>\n",
       "      <td>13.815511</td>\n",
       "      <td>14.508658</td>\n",
       "      <td>15.60727</td>\n",
       "      <td>18.826146</td>\n",
       "    </tr>\n",
       "  </tbody>\n",
       "</table>\n",
       "</div>"
      ],
      "text/plain": [
       "                count       mean       std  min        25%        50%  \\\n",
       "log_Amount  3132044.0  14.627525  1.519028  0.0  13.815511  14.508658   \n",
       "\n",
       "                 75%        max  \n",
       "log_Amount  15.60727  18.826146  "
      ]
     },
     "execution_count": 90,
     "metadata": {},
     "output_type": "execute_result"
    },
    {
     "data": {
      "image/png": "[encoded data removed]",
      "text/plain": [
       "<Figure size 1440x1296 with 2 Axes>"
      ]
     },
     "metadata": {
      "needs_background": "light"
     },
     "output_type": "display_data"
    }
   ],
   "source": [
    "featureAnalysis('log_Amount',encodeData)"
   ]
  },
  {
   "cell_type": "markdown",
   "id": "0d621986",
   "metadata": {},
   "source": [
    "# "
   ]
  },
  {
   "cell_type": "markdown",
   "id": "45453ddd",
   "metadata": {},
   "source": [
    "<a name=\"2.5\"></a>\n",
    "- Terminal_Type"
   ]
  },
  {
   "cell_type": "code",
   "execution_count": 91,
   "id": "2de9994e",
   "metadata": {},
   "outputs": [
    {
     "data": {
      "text/plain": [
       "1    2249372\n",
       "7     834993\n",
       "6      32215\n",
       "5      15464\n",
       "Name: Terminal_Type, dtype: int64"
      ]
     },
     "execution_count": 91,
     "metadata": {},
     "output_type": "execute_result"
    }
   ],
   "source": [
    "encodeData['Terminal_Type'].value_counts()"
   ]
  },
  {
   "cell_type": "code",
   "execution_count": 92,
   "id": "286edd44",
   "metadata": {},
   "outputs": [
    {
     "data": {
      "image/png": "[encoded data removed]",
      "text/plain": [
       "<Figure size 1440x864 with 1 Axes>"
      ]
     },
     "metadata": {},
     "output_type": "display_data"
    }
   ],
   "source": [
    "value_counts = encodeData['Terminal_Type'].value_counts()\n",
    "# Plot a pie chart\n",
    "plt.figure(figsize=(20, 12))\n",
    "plt.pie(value_counts, labels=value_counts.index, autopct='%1.1f%%', startangle=140)\n",
    "plt.title('Pie Chart of Unique Terminal_Type')\n",
    "plt.show()"
   ]
  },
  {
   "cell_type": "code",
   "execution_count": 93,
   "id": "5b412e96",
   "metadata": {},
   "outputs": [],
   "source": [
    "terminal_Type_mean_amount = encodeData.groupby('Terminal_Type')['Amount'].mean().to_dict()\n",
    "encodeData['terminal_Type_mean_amount'] = encodeData['Terminal_Type'].map(terminal_Type_mean_amount)"
   ]
  },
  {
   "cell_type": "markdown",
   "id": "eba4049b",
   "metadata": {},
   "source": [
    "<a name=\"2.6\"></a> \n",
    " - Terminal_ID"
   ]
  },
  {
   "cell_type": "code",
   "execution_count": 94,
   "id": "d80d02c0",
   "metadata": {},
   "outputs": [],
   "source": [
    "value_count_Terminal_ID = pd.DataFrame(encodeData['Terminal_ID'].value_counts())"
   ]
  },
  {
   "cell_type": "code",
   "execution_count": 95,
   "id": "b6142540",
   "metadata": {},
   "outputs": [
    {
     "data": {
      "text/html": [
       "<div>\n",
       "<style scoped>\n",
       "    .dataframe tbody tr th:only-of-type {\n",
       "        vertical-align: middle;\n",
       "    }\n",
       "\n",
       "    .dataframe tbody tr th {\n",
       "        vertical-align: top;\n",
       "    }\n",
       "\n",
       "    .dataframe thead th {\n",
       "        text-align: right;\n",
       "    }\n",
       "</style>\n",
       "<table border=\"1\" class=\"dataframe\">\n",
       "  <thead>\n",
       "    <tr style=\"text-align: right;\">\n",
       "      <th></th>\n",
       "      <th>count</th>\n",
       "      <th>mean</th>\n",
       "      <th>std</th>\n",
       "      <th>min</th>\n",
       "      <th>25%</th>\n",
       "      <th>50%</th>\n",
       "      <th>75%</th>\n",
       "      <th>max</th>\n",
       "    </tr>\n",
       "  </thead>\n",
       "  <tbody>\n",
       "    <tr>\n",
       "      <th>Terminal_ID</th>\n",
       "      <td>68951.0</td>\n",
       "      <td>45.4242</td>\n",
       "      <td>2299.761765</td>\n",
       "      <td>1.0</td>\n",
       "      <td>2.0</td>\n",
       "      <td>5.0</td>\n",
       "      <td>13.0</td>\n",
       "      <td>518407.0</td>\n",
       "    </tr>\n",
       "  </tbody>\n",
       "</table>\n",
       "</div>"
      ],
      "text/plain": [
       "               count     mean          std  min  25%  50%   75%       max\n",
       "Terminal_ID  68951.0  45.4242  2299.761765  1.0  2.0  5.0  13.0  518407.0"
      ]
     },
     "execution_count": 95,
     "metadata": {},
     "output_type": "execute_result"
    },
    {
     "data": {
      "image/png": "[encoded data removed]",
      "text/plain": [
       "<Figure size 1440x1296 with 2 Axes>"
      ]
     },
     "metadata": {
      "needs_background": "light"
     },
     "output_type": "display_data"
    }
   ],
   "source": [
    "featureAnalysis('Terminal_ID',value_count_Terminal_ID)"
   ]
  },
  {
   "cell_type": "code",
   "execution_count": 96,
   "id": "6a4633d4",
   "metadata": {},
   "outputs": [
    {
     "data": {
      "text/plain": [
       "0.9858160142710041"
      ]
     },
     "execution_count": 96,
     "metadata": {},
     "output_type": "execute_result"
    }
   ],
   "source": [
    "len(value_count_Terminal_ID[value_count_Terminal_ID['Terminal_ID'] < 100]) / len(value_count_Terminal_ID)"
   ]
  },
  {
   "cell_type": "code",
   "execution_count": 97,
   "id": "5947fe3f",
   "metadata": {},
   "outputs": [],
   "source": [
    "#Frequency Encoding \n",
    "terminal_id_counts = encodeData['Terminal_ID'].value_counts().to_dict()\n",
    "encodeData['Terminal_ID_Count'] = encodeData['Terminal_ID'].map(terminal_id_counts)"
   ]
  },
  {
   "cell_type": "code",
   "execution_count": 98,
   "id": "1195c278",
   "metadata": {},
   "outputs": [],
   "source": [
    "terminal_id_mean_amount = encodeData.groupby('Terminal_ID')['Amount'].mean().to_dict()\n",
    "encodeData['terminal_id_mean_amount'] = encodeData['Terminal_ID'].map(terminal_id_mean_amount)"
   ]
  },
  {
   "cell_type": "markdown",
   "id": "4853a774",
   "metadata": {},
   "source": [
    "- Primary ID and Second ID"
   ]
  },
  {
   "cell_type": "code",
   "execution_count": 99,
   "id": "4d3850f3",
   "metadata": {},
   "outputs": [],
   "source": [
    "#Frequency Encoding Primary_ID\n",
    "Primary_ID_counts = encodeData['Primary_ID'].value_counts().to_dict()\n",
    "encodeData['Primary_ID_counts'] = encodeData['Primary_ID'].map(Primary_ID_counts)"
   ]
  },
  {
   "cell_type": "code",
   "execution_count": 100,
   "id": "f1e18244",
   "metadata": {},
   "outputs": [],
   "source": [
    "#Frequency Encoding Second_ID\n",
    "Second_ID_counts = encodeData['Second_ID'].value_counts().to_dict()\n",
    "encodeData['Second_ID_counts'] = encodeData['Second_ID'].map(Second_ID_counts)"
   ]
  },
  {
   "cell_type": "markdown",
   "id": "1fbe576e",
   "metadata": {},
   "source": [
    "**Phase Two**"
   ]
  },
  {
   "cell_type": "code",
   "execution_count": 101,
   "id": "70f3d322",
   "metadata": {},
   "outputs": [
    {
     "data": {
      "text/html": [
       "<div>\n",
       "<style scoped>\n",
       "    .dataframe tbody tr th:only-of-type {\n",
       "        vertical-align: middle;\n",
       "    }\n",
       "\n",
       "    .dataframe tbody tr th {\n",
       "        vertical-align: top;\n",
       "    }\n",
       "\n",
       "    .dataframe thead th {\n",
       "        text-align: right;\n",
       "    }\n",
       "</style>\n",
       "<table border=\"1\" class=\"dataframe\">\n",
       "  <thead>\n",
       "    <tr style=\"text-align: right;\">\n",
       "      <th></th>\n",
       "      <th>Primary_ID</th>\n",
       "      <th>Amount</th>\n",
       "      <th>Terminal_Type</th>\n",
       "      <th>Terminal_ID</th>\n",
       "      <th>Second_ID</th>\n",
       "      <th>labelPrimary</th>\n",
       "      <th>labelSecond</th>\n",
       "      <th>month</th>\n",
       "      <th>day</th>\n",
       "      <th>Hour</th>\n",
       "      <th>...</th>\n",
       "      <th>year</th>\n",
       "      <th>combined_timestamp</th>\n",
       "      <th>day_of_week</th>\n",
       "      <th>day_of_week_mean_amount</th>\n",
       "      <th>log_Amount</th>\n",
       "      <th>terminal_Type_mean_amount</th>\n",
       "      <th>Terminal_ID_Count</th>\n",
       "      <th>terminal_id_mean_amount</th>\n",
       "      <th>Primary_ID_counts</th>\n",
       "      <th>Second_ID_counts</th>\n",
       "    </tr>\n",
       "  </thead>\n",
       "  <tbody>\n",
       "    <tr>\n",
       "      <th>0</th>\n",
       "      <td>9c2594cdb4153de3f748</td>\n",
       "      <td>11518977.0</td>\n",
       "      <td>7</td>\n",
       "      <td>d7b0230e4491fbd3563a</td>\n",
       "      <td>3de4bc60f38a51a82365</td>\n",
       "      <td>no_info</td>\n",
       "      <td>unknown</td>\n",
       "      <td>6</td>\n",
       "      <td>2</td>\n",
       "      <td>8</td>\n",
       "      <td>...</td>\n",
       "      <td>2023</td>\n",
       "      <td>2023-06-02 08:38:38.290</td>\n",
       "      <td>4</td>\n",
       "      <td>6.985867e+06</td>\n",
       "      <td>16.259506</td>\n",
       "      <td>1.031322e+07</td>\n",
       "      <td>141</td>\n",
       "      <td>5.451315e+06</td>\n",
       "      <td>1</td>\n",
       "      <td>75392</td>\n",
       "    </tr>\n",
       "    <tr>\n",
       "      <th>1</th>\n",
       "      <td>a8ae04d3b8f155a154af</td>\n",
       "      <td>5000000.0</td>\n",
       "      <td>1</td>\n",
       "      <td>9a858e74cc2faefbc12c</td>\n",
       "      <td>b4980da1e29f59c92a53</td>\n",
       "      <td>no_info</td>\n",
       "      <td>0.0</td>\n",
       "      <td>4</td>\n",
       "      <td>3</td>\n",
       "      <td>5</td>\n",
       "      <td>...</td>\n",
       "      <td>2023</td>\n",
       "      <td>2023-04-03 05:15:20.253</td>\n",
       "      <td>0</td>\n",
       "      <td>5.845285e+06</td>\n",
       "      <td>15.424948</td>\n",
       "      <td>5.280032e+06</td>\n",
       "      <td>36688</td>\n",
       "      <td>5.460239e+06</td>\n",
       "      <td>1</td>\n",
       "      <td>16529</td>\n",
       "    </tr>\n",
       "    <tr>\n",
       "      <th>2</th>\n",
       "      <td>739c869136df74852e10</td>\n",
       "      <td>2000000.0</td>\n",
       "      <td>1</td>\n",
       "      <td>7cc4db9e78fb590b06a6</td>\n",
       "      <td>69c4a29dd54b44de457e</td>\n",
       "      <td>no_info</td>\n",
       "      <td>unknown</td>\n",
       "      <td>4</td>\n",
       "      <td>29</td>\n",
       "      <td>9</td>\n",
       "      <td>...</td>\n",
       "      <td>2023</td>\n",
       "      <td>2023-04-29 09:26:58.648</td>\n",
       "      <td>5</td>\n",
       "      <td>6.923862e+06</td>\n",
       "      <td>14.508658</td>\n",
       "      <td>5.280032e+06</td>\n",
       "      <td>67492</td>\n",
       "      <td>7.088591e+06</td>\n",
       "      <td>1</td>\n",
       "      <td>286</td>\n",
       "    </tr>\n",
       "    <tr>\n",
       "      <th>3</th>\n",
       "      <td>60366904cbdb0d067c20</td>\n",
       "      <td>1000000.0</td>\n",
       "      <td>1</td>\n",
       "      <td>342abaad6ca26a8aea1e</td>\n",
       "      <td>a59ad5aa2a2b5e221572</td>\n",
       "      <td>no_info</td>\n",
       "      <td>unknown</td>\n",
       "      <td>6</td>\n",
       "      <td>2</td>\n",
       "      <td>7</td>\n",
       "      <td>...</td>\n",
       "      <td>2023</td>\n",
       "      <td>2023-06-02 07:52:19.692</td>\n",
       "      <td>4</td>\n",
       "      <td>6.985867e+06</td>\n",
       "      <td>13.815511</td>\n",
       "      <td>5.280032e+06</td>\n",
       "      <td>133456</td>\n",
       "      <td>6.466540e+06</td>\n",
       "      <td>1</td>\n",
       "      <td>7174</td>\n",
       "    </tr>\n",
       "    <tr>\n",
       "      <th>4</th>\n",
       "      <td>911abef1ee23db40b108</td>\n",
       "      <td>50000.0</td>\n",
       "      <td>7</td>\n",
       "      <td>3381cb32e729571bfdfe</td>\n",
       "      <td>8457468be95f8a197756</td>\n",
       "      <td>no_info</td>\n",
       "      <td>unknown</td>\n",
       "      <td>3</td>\n",
       "      <td>22</td>\n",
       "      <td>22</td>\n",
       "      <td>...</td>\n",
       "      <td>2023</td>\n",
       "      <td>2023-03-22 22:45:28.260</td>\n",
       "      <td>2</td>\n",
       "      <td>6.841315e+06</td>\n",
       "      <td>10.819778</td>\n",
       "      <td>1.031322e+07</td>\n",
       "      <td>89</td>\n",
       "      <td>1.189212e+07</td>\n",
       "      <td>1</td>\n",
       "      <td>34702</td>\n",
       "    </tr>\n",
       "    <tr>\n",
       "      <th>...</th>\n",
       "      <td>...</td>\n",
       "      <td>...</td>\n",
       "      <td>...</td>\n",
       "      <td>...</td>\n",
       "      <td>...</td>\n",
       "      <td>...</td>\n",
       "      <td>...</td>\n",
       "      <td>...</td>\n",
       "      <td>...</td>\n",
       "      <td>...</td>\n",
       "      <td>...</td>\n",
       "      <td>...</td>\n",
       "      <td>...</td>\n",
       "      <td>...</td>\n",
       "      <td>...</td>\n",
       "      <td>...</td>\n",
       "      <td>...</td>\n",
       "      <td>...</td>\n",
       "      <td>...</td>\n",
       "      <td>...</td>\n",
       "      <td>...</td>\n",
       "    </tr>\n",
       "    <tr>\n",
       "      <th>3259421</th>\n",
       "      <td>6f743892923ae636c1ac</td>\n",
       "      <td>1000000.0</td>\n",
       "      <td>1</td>\n",
       "      <td>4ff68720afddc796c9fb</td>\n",
       "      <td>42057e17833b83f303f4</td>\n",
       "      <td>no_info</td>\n",
       "      <td>unknown</td>\n",
       "      <td>3</td>\n",
       "      <td>15</td>\n",
       "      <td>8</td>\n",
       "      <td>...</td>\n",
       "      <td>2023</td>\n",
       "      <td>2023-03-15 08:55:54.592</td>\n",
       "      <td>2</td>\n",
       "      <td>6.841315e+06</td>\n",
       "      <td>13.815511</td>\n",
       "      <td>5.280032e+06</td>\n",
       "      <td>8877</td>\n",
       "      <td>4.401098e+06</td>\n",
       "      <td>14</td>\n",
       "      <td>789</td>\n",
       "    </tr>\n",
       "    <tr>\n",
       "      <th>3259422</th>\n",
       "      <td>6f743892923ae636c1ac</td>\n",
       "      <td>2000000.0</td>\n",
       "      <td>1</td>\n",
       "      <td>4ff68720afddc796c9fb</td>\n",
       "      <td>281b90d9fdcc285cca2e</td>\n",
       "      <td>no_info</td>\n",
       "      <td>unknown</td>\n",
       "      <td>3</td>\n",
       "      <td>25</td>\n",
       "      <td>8</td>\n",
       "      <td>...</td>\n",
       "      <td>2023</td>\n",
       "      <td>2023-03-25 08:23:36.269</td>\n",
       "      <td>5</td>\n",
       "      <td>6.923862e+06</td>\n",
       "      <td>14.508658</td>\n",
       "      <td>5.280032e+06</td>\n",
       "      <td>8877</td>\n",
       "      <td>4.401098e+06</td>\n",
       "      <td>14</td>\n",
       "      <td>352</td>\n",
       "    </tr>\n",
       "    <tr>\n",
       "      <th>3259423</th>\n",
       "      <td>6f743892923ae636c1ac</td>\n",
       "      <td>1000000.0</td>\n",
       "      <td>1</td>\n",
       "      <td>4ff68720afddc796c9fb</td>\n",
       "      <td>e32ec72f1bb0e39f0ea3</td>\n",
       "      <td>no_info</td>\n",
       "      <td>unknown</td>\n",
       "      <td>3</td>\n",
       "      <td>30</td>\n",
       "      <td>9</td>\n",
       "      <td>...</td>\n",
       "      <td>2023</td>\n",
       "      <td>2023-03-30 09:36:46.398</td>\n",
       "      <td>3</td>\n",
       "      <td>6.923044e+06</td>\n",
       "      <td>13.815511</td>\n",
       "      <td>5.280032e+06</td>\n",
       "      <td>8877</td>\n",
       "      <td>4.401098e+06</td>\n",
       "      <td>14</td>\n",
       "      <td>656</td>\n",
       "    </tr>\n",
       "    <tr>\n",
       "      <th>3259424</th>\n",
       "      <td>6f743892923ae636c1ac</td>\n",
       "      <td>1000000.0</td>\n",
       "      <td>1</td>\n",
       "      <td>4ff68720afddc796c9fb</td>\n",
       "      <td>071b8737ef9df9a13712</td>\n",
       "      <td>no_info</td>\n",
       "      <td>1.0</td>\n",
       "      <td>4</td>\n",
       "      <td>10</td>\n",
       "      <td>11</td>\n",
       "      <td>...</td>\n",
       "      <td>2023</td>\n",
       "      <td>2023-04-10 11:13:47.613</td>\n",
       "      <td>0</td>\n",
       "      <td>5.845285e+06</td>\n",
       "      <td>13.815511</td>\n",
       "      <td>5.280032e+06</td>\n",
       "      <td>8877</td>\n",
       "      <td>4.401098e+06</td>\n",
       "      <td>14</td>\n",
       "      <td>504</td>\n",
       "    </tr>\n",
       "    <tr>\n",
       "      <th>3259425</th>\n",
       "      <td>6f743892923ae636c1ac</td>\n",
       "      <td>1000000.0</td>\n",
       "      <td>1</td>\n",
       "      <td>4ff68720afddc796c9fb</td>\n",
       "      <td>375d739376a7d17c7b94</td>\n",
       "      <td>no_info</td>\n",
       "      <td>unknown</td>\n",
       "      <td>4</td>\n",
       "      <td>18</td>\n",
       "      <td>21</td>\n",
       "      <td>...</td>\n",
       "      <td>2023</td>\n",
       "      <td>2023-04-18 21:32:15.352</td>\n",
       "      <td>1</td>\n",
       "      <td>6.935631e+06</td>\n",
       "      <td>13.815511</td>\n",
       "      <td>5.280032e+06</td>\n",
       "      <td>8877</td>\n",
       "      <td>4.401098e+06</td>\n",
       "      <td>14</td>\n",
       "      <td>745</td>\n",
       "    </tr>\n",
       "  </tbody>\n",
       "</table>\n",
       "<p>3132044 rows × 26 columns</p>\n",
       "</div>"
      ],
      "text/plain": [
       "                   Primary_ID      Amount  Terminal_Type  \\\n",
       "0        9c2594cdb4153de3f748  11518977.0              7   \n",
       "1        a8ae04d3b8f155a154af   5000000.0              1   \n",
       "2        739c869136df74852e10   2000000.0              1   \n",
       "3        60366904cbdb0d067c20   1000000.0              1   \n",
       "4        911abef1ee23db40b108     50000.0              7   \n",
       "...                       ...         ...            ...   \n",
       "3259421  6f743892923ae636c1ac   1000000.0              1   \n",
       "3259422  6f743892923ae636c1ac   2000000.0              1   \n",
       "3259423  6f743892923ae636c1ac   1000000.0              1   \n",
       "3259424  6f743892923ae636c1ac   1000000.0              1   \n",
       "3259425  6f743892923ae636c1ac   1000000.0              1   \n",
       "\n",
       "                  Terminal_ID             Second_ID labelPrimary labelSecond  \\\n",
       "0        d7b0230e4491fbd3563a  3de4bc60f38a51a82365      no_info     unknown   \n",
       "1        9a858e74cc2faefbc12c  b4980da1e29f59c92a53      no_info         0.0   \n",
       "2        7cc4db9e78fb590b06a6  69c4a29dd54b44de457e      no_info     unknown   \n",
       "3        342abaad6ca26a8aea1e  a59ad5aa2a2b5e221572      no_info     unknown   \n",
       "4        3381cb32e729571bfdfe  8457468be95f8a197756      no_info     unknown   \n",
       "...                       ...                   ...          ...         ...   \n",
       "3259421  4ff68720afddc796c9fb  42057e17833b83f303f4      no_info     unknown   \n",
       "3259422  4ff68720afddc796c9fb  281b90d9fdcc285cca2e      no_info     unknown   \n",
       "3259423  4ff68720afddc796c9fb  e32ec72f1bb0e39f0ea3      no_info     unknown   \n",
       "3259424  4ff68720afddc796c9fb  071b8737ef9df9a13712      no_info         1.0   \n",
       "3259425  4ff68720afddc796c9fb  375d739376a7d17c7b94      no_info     unknown   \n",
       "\n",
       "         month  day  Hour  ...  year      combined_timestamp  day_of_week  \\\n",
       "0            6    2     8  ...  2023 2023-06-02 08:38:38.290            4   \n",
       "1            4    3     5  ...  2023 2023-04-03 05:15:20.253            0   \n",
       "2            4   29     9  ...  2023 2023-04-29 09:26:58.648            5   \n",
       "3            6    2     7  ...  2023 2023-06-02 07:52:19.692            4   \n",
       "4            3   22    22  ...  2023 2023-03-22 22:45:28.260            2   \n",
       "...        ...  ...   ...  ...   ...                     ...          ...   \n",
       "3259421      3   15     8  ...  2023 2023-03-15 08:55:54.592            2   \n",
       "3259422      3   25     8  ...  2023 2023-03-25 08:23:36.269            5   \n",
       "3259423      3   30     9  ...  2023 2023-03-30 09:36:46.398            3   \n",
       "3259424      4   10    11  ...  2023 2023-04-10 11:13:47.613            0   \n",
       "3259425      4   18    21  ...  2023 2023-04-18 21:32:15.352            1   \n",
       "\n",
       "         day_of_week_mean_amount  log_Amount  terminal_Type_mean_amount  \\\n",
       "0                   6.985867e+06   16.259506               1.031322e+07   \n",
       "1                   5.845285e+06   15.424948               5.280032e+06   \n",
       "2                   6.923862e+06   14.508658               5.280032e+06   \n",
       "3                   6.985867e+06   13.815511               5.280032e+06   \n",
       "4                   6.841315e+06   10.819778               1.031322e+07   \n",
       "...                          ...         ...                        ...   \n",
       "3259421             6.841315e+06   13.815511               5.280032e+06   \n",
       "3259422             6.923862e+06   14.508658               5.280032e+06   \n",
       "3259423             6.923044e+06   13.815511               5.280032e+06   \n",
       "3259424             5.845285e+06   13.815511               5.280032e+06   \n",
       "3259425             6.935631e+06   13.815511               5.280032e+06   \n",
       "\n",
       "         Terminal_ID_Count terminal_id_mean_amount  Primary_ID_counts  \\\n",
       "0                      141            5.451315e+06                  1   \n",
       "1                    36688            5.460239e+06                  1   \n",
       "2                    67492            7.088591e+06                  1   \n",
       "3                   133456            6.466540e+06                  1   \n",
       "4                       89            1.189212e+07                  1   \n",
       "...                    ...                     ...                ...   \n",
       "3259421               8877            4.401098e+06                 14   \n",
       "3259422               8877            4.401098e+06                 14   \n",
       "3259423               8877            4.401098e+06                 14   \n",
       "3259424               8877            4.401098e+06                 14   \n",
       "3259425               8877            4.401098e+06                 14   \n",
       "\n",
       "         Second_ID_counts  \n",
       "0                   75392  \n",
       "1                   16529  \n",
       "2                     286  \n",
       "3                    7174  \n",
       "4                   34702  \n",
       "...                   ...  \n",
       "3259421               789  \n",
       "3259422               352  \n",
       "3259423               656  \n",
       "3259424               504  \n",
       "3259425               745  \n",
       "\n",
       "[3132044 rows x 26 columns]"
      ]
     },
     "execution_count": 101,
     "metadata": {},
     "output_type": "execute_result"
    }
   ],
   "source": [
    "encodeData"
   ]
  },
  {
   "cell_type": "code",
   "execution_count": 102,
   "id": "ab8394a7",
   "metadata": {},
   "outputs": [],
   "source": [
    "df_clustering = encodeData[['Amount', 'Terminal_Type', 'month', 'day', 'Hour',\n",
    "       'Minute', 'Second', 'Microsecond', 'hour_binned', 'log_Amount',\n",
    "       'Terminal_ID_Count', 'Primary_ID_counts', 'Second_ID_counts','terminal_id_mean_amount']]"
   ]
  },
  {
   "cell_type": "code",
   "execution_count": 103,
   "id": "4a0b0405",
   "metadata": {},
   "outputs": [],
   "source": [
    "df_encoded = pd.get_dummies(df_clustering, columns=['Terminal_Type'], prefix='Terminal_Type')"
   ]
  },
  {
   "cell_type": "code",
   "execution_count": 104,
   "id": "49a132d6",
   "metadata": {},
   "outputs": [
    {
     "data": {
      "text/html": [
       "<div>\n",
       "<style scoped>\n",
       "    .dataframe tbody tr th:only-of-type {\n",
       "        vertical-align: middle;\n",
       "    }\n",
       "\n",
       "    .dataframe tbody tr th {\n",
       "        vertical-align: top;\n",
       "    }\n",
       "\n",
       "    .dataframe thead th {\n",
       "        text-align: right;\n",
       "    }\n",
       "</style>\n",
       "<table border=\"1\" class=\"dataframe\">\n",
       "  <thead>\n",
       "    <tr style=\"text-align: right;\">\n",
       "      <th></th>\n",
       "      <th>Amount</th>\n",
       "      <th>month</th>\n",
       "      <th>day</th>\n",
       "      <th>Hour</th>\n",
       "      <th>Minute</th>\n",
       "      <th>Second</th>\n",
       "      <th>Microsecond</th>\n",
       "      <th>hour_binned</th>\n",
       "      <th>log_Amount</th>\n",
       "      <th>Terminal_ID_Count</th>\n",
       "      <th>Primary_ID_counts</th>\n",
       "      <th>Second_ID_counts</th>\n",
       "      <th>terminal_id_mean_amount</th>\n",
       "      <th>Terminal_Type_1</th>\n",
       "      <th>Terminal_Type_5</th>\n",
       "      <th>Terminal_Type_6</th>\n",
       "      <th>Terminal_Type_7</th>\n",
       "    </tr>\n",
       "  </thead>\n",
       "  <tbody>\n",
       "    <tr>\n",
       "      <th>0</th>\n",
       "      <td>11518977.0</td>\n",
       "      <td>6</td>\n",
       "      <td>2</td>\n",
       "      <td>8</td>\n",
       "      <td>38</td>\n",
       "      <td>38</td>\n",
       "      <td>290000</td>\n",
       "      <td>3</td>\n",
       "      <td>16.259506</td>\n",
       "      <td>141</td>\n",
       "      <td>1</td>\n",
       "      <td>75392</td>\n",
       "      <td>5.451315e+06</td>\n",
       "      <td>0</td>\n",
       "      <td>0</td>\n",
       "      <td>0</td>\n",
       "      <td>1</td>\n",
       "    </tr>\n",
       "    <tr>\n",
       "      <th>1</th>\n",
       "      <td>5000000.0</td>\n",
       "      <td>4</td>\n",
       "      <td>3</td>\n",
       "      <td>5</td>\n",
       "      <td>15</td>\n",
       "      <td>20</td>\n",
       "      <td>253000</td>\n",
       "      <td>2</td>\n",
       "      <td>15.424948</td>\n",
       "      <td>36688</td>\n",
       "      <td>1</td>\n",
       "      <td>16529</td>\n",
       "      <td>5.460239e+06</td>\n",
       "      <td>1</td>\n",
       "      <td>0</td>\n",
       "      <td>0</td>\n",
       "      <td>0</td>\n",
       "    </tr>\n",
       "    <tr>\n",
       "      <th>2</th>\n",
       "      <td>2000000.0</td>\n",
       "      <td>4</td>\n",
       "      <td>29</td>\n",
       "      <td>9</td>\n",
       "      <td>26</td>\n",
       "      <td>58</td>\n",
       "      <td>648000</td>\n",
       "      <td>4</td>\n",
       "      <td>14.508658</td>\n",
       "      <td>67492</td>\n",
       "      <td>1</td>\n",
       "      <td>286</td>\n",
       "      <td>7.088591e+06</td>\n",
       "      <td>1</td>\n",
       "      <td>0</td>\n",
       "      <td>0</td>\n",
       "      <td>0</td>\n",
       "    </tr>\n",
       "    <tr>\n",
       "      <th>3</th>\n",
       "      <td>1000000.0</td>\n",
       "      <td>6</td>\n",
       "      <td>2</td>\n",
       "      <td>7</td>\n",
       "      <td>52</td>\n",
       "      <td>19</td>\n",
       "      <td>692000</td>\n",
       "      <td>3</td>\n",
       "      <td>13.815511</td>\n",
       "      <td>133456</td>\n",
       "      <td>1</td>\n",
       "      <td>7174</td>\n",
       "      <td>6.466540e+06</td>\n",
       "      <td>1</td>\n",
       "      <td>0</td>\n",
       "      <td>0</td>\n",
       "      <td>0</td>\n",
       "    </tr>\n",
       "    <tr>\n",
       "      <th>4</th>\n",
       "      <td>50000.0</td>\n",
       "      <td>3</td>\n",
       "      <td>22</td>\n",
       "      <td>22</td>\n",
       "      <td>45</td>\n",
       "      <td>28</td>\n",
       "      <td>260000</td>\n",
       "      <td>8</td>\n",
       "      <td>10.819778</td>\n",
       "      <td>89</td>\n",
       "      <td>1</td>\n",
       "      <td>34702</td>\n",
       "      <td>1.189212e+07</td>\n",
       "      <td>0</td>\n",
       "      <td>0</td>\n",
       "      <td>0</td>\n",
       "      <td>1</td>\n",
       "    </tr>\n",
       "    <tr>\n",
       "      <th>...</th>\n",
       "      <td>...</td>\n",
       "      <td>...</td>\n",
       "      <td>...</td>\n",
       "      <td>...</td>\n",
       "      <td>...</td>\n",
       "      <td>...</td>\n",
       "      <td>...</td>\n",
       "      <td>...</td>\n",
       "      <td>...</td>\n",
       "      <td>...</td>\n",
       "      <td>...</td>\n",
       "      <td>...</td>\n",
       "      <td>...</td>\n",
       "      <td>...</td>\n",
       "      <td>...</td>\n",
       "      <td>...</td>\n",
       "      <td>...</td>\n",
       "    </tr>\n",
       "    <tr>\n",
       "      <th>3259421</th>\n",
       "      <td>1000000.0</td>\n",
       "      <td>3</td>\n",
       "      <td>15</td>\n",
       "      <td>8</td>\n",
       "      <td>55</td>\n",
       "      <td>54</td>\n",
       "      <td>592000</td>\n",
       "      <td>3</td>\n",
       "      <td>13.815511</td>\n",
       "      <td>8877</td>\n",
       "      <td>14</td>\n",
       "      <td>789</td>\n",
       "      <td>4.401098e+06</td>\n",
       "      <td>1</td>\n",
       "      <td>0</td>\n",
       "      <td>0</td>\n",
       "      <td>0</td>\n",
       "    </tr>\n",
       "    <tr>\n",
       "      <th>3259422</th>\n",
       "      <td>2000000.0</td>\n",
       "      <td>3</td>\n",
       "      <td>25</td>\n",
       "      <td>8</td>\n",
       "      <td>23</td>\n",
       "      <td>36</td>\n",
       "      <td>269000</td>\n",
       "      <td>3</td>\n",
       "      <td>14.508658</td>\n",
       "      <td>8877</td>\n",
       "      <td>14</td>\n",
       "      <td>352</td>\n",
       "      <td>4.401098e+06</td>\n",
       "      <td>1</td>\n",
       "      <td>0</td>\n",
       "      <td>0</td>\n",
       "      <td>0</td>\n",
       "    </tr>\n",
       "    <tr>\n",
       "      <th>3259423</th>\n",
       "      <td>1000000.0</td>\n",
       "      <td>3</td>\n",
       "      <td>30</td>\n",
       "      <td>9</td>\n",
       "      <td>36</td>\n",
       "      <td>46</td>\n",
       "      <td>398000</td>\n",
       "      <td>4</td>\n",
       "      <td>13.815511</td>\n",
       "      <td>8877</td>\n",
       "      <td>14</td>\n",
       "      <td>656</td>\n",
       "      <td>4.401098e+06</td>\n",
       "      <td>1</td>\n",
       "      <td>0</td>\n",
       "      <td>0</td>\n",
       "      <td>0</td>\n",
       "    </tr>\n",
       "    <tr>\n",
       "      <th>3259424</th>\n",
       "      <td>1000000.0</td>\n",
       "      <td>4</td>\n",
       "      <td>10</td>\n",
       "      <td>11</td>\n",
       "      <td>13</td>\n",
       "      <td>47</td>\n",
       "      <td>613000</td>\n",
       "      <td>4</td>\n",
       "      <td>13.815511</td>\n",
       "      <td>8877</td>\n",
       "      <td>14</td>\n",
       "      <td>504</td>\n",
       "      <td>4.401098e+06</td>\n",
       "      <td>1</td>\n",
       "      <td>0</td>\n",
       "      <td>0</td>\n",
       "      <td>0</td>\n",
       "    </tr>\n",
       "    <tr>\n",
       "      <th>3259425</th>\n",
       "      <td>1000000.0</td>\n",
       "      <td>4</td>\n",
       "      <td>18</td>\n",
       "      <td>21</td>\n",
       "      <td>32</td>\n",
       "      <td>15</td>\n",
       "      <td>352000</td>\n",
       "      <td>8</td>\n",
       "      <td>13.815511</td>\n",
       "      <td>8877</td>\n",
       "      <td>14</td>\n",
       "      <td>745</td>\n",
       "      <td>4.401098e+06</td>\n",
       "      <td>1</td>\n",
       "      <td>0</td>\n",
       "      <td>0</td>\n",
       "      <td>0</td>\n",
       "    </tr>\n",
       "  </tbody>\n",
       "</table>\n",
       "<p>3132044 rows × 17 columns</p>\n",
       "</div>"
      ],
      "text/plain": [
       "             Amount  month  day  Hour  Minute  Second  Microsecond  \\\n",
       "0        11518977.0      6    2     8      38      38       290000   \n",
       "1         5000000.0      4    3     5      15      20       253000   \n",
       "2         2000000.0      4   29     9      26      58       648000   \n",
       "3         1000000.0      6    2     7      52      19       692000   \n",
       "4           50000.0      3   22    22      45      28       260000   \n",
       "...             ...    ...  ...   ...     ...     ...          ...   \n",
       "3259421   1000000.0      3   15     8      55      54       592000   \n",
       "3259422   2000000.0      3   25     8      23      36       269000   \n",
       "3259423   1000000.0      3   30     9      36      46       398000   \n",
       "3259424   1000000.0      4   10    11      13      47       613000   \n",
       "3259425   1000000.0      4   18    21      32      15       352000   \n",
       "\n",
       "         hour_binned  log_Amount  Terminal_ID_Count  Primary_ID_counts  \\\n",
       "0                  3   16.259506                141                  1   \n",
       "1                  2   15.424948              36688                  1   \n",
       "2                  4   14.508658              67492                  1   \n",
       "3                  3   13.815511             133456                  1   \n",
       "4                  8   10.819778                 89                  1   \n",
       "...              ...         ...                ...                ...   \n",
       "3259421            3   13.815511               8877                 14   \n",
       "3259422            3   14.508658               8877                 14   \n",
       "3259423            4   13.815511               8877                 14   \n",
       "3259424            4   13.815511               8877                 14   \n",
       "3259425            8   13.815511               8877                 14   \n",
       "\n",
       "         Second_ID_counts  terminal_id_mean_amount  Terminal_Type_1  \\\n",
       "0                   75392             5.451315e+06                0   \n",
       "1                   16529             5.460239e+06                1   \n",
       "2                     286             7.088591e+06                1   \n",
       "3                    7174             6.466540e+06                1   \n",
       "4                   34702             1.189212e+07                0   \n",
       "...                   ...                      ...              ...   \n",
       "3259421               789             4.401098e+06                1   \n",
       "3259422               352             4.401098e+06                1   \n",
       "3259423               656             4.401098e+06                1   \n",
       "3259424               504             4.401098e+06                1   \n",
       "3259425               745             4.401098e+06                1   \n",
       "\n",
       "         Terminal_Type_5  Terminal_Type_6  Terminal_Type_7  \n",
       "0                      0                0                1  \n",
       "1                      0                0                0  \n",
       "2                      0                0                0  \n",
       "3                      0                0                0  \n",
       "4                      0                0                1  \n",
       "...                  ...              ...              ...  \n",
       "3259421                0                0                0  \n",
       "3259422                0                0                0  \n",
       "3259423                0                0                0  \n",
       "3259424                0                0                0  \n",
       "3259425                0                0                0  \n",
       "\n",
       "[3132044 rows x 17 columns]"
      ]
     },
     "execution_count": 104,
     "metadata": {},
     "output_type": "execute_result"
    }
   ],
   "source": [
    "df_encoded"
   ]
  },
  {
   "cell_type": "code",
   "execution_count": 105,
   "id": "60b2c63f",
   "metadata": {},
   "outputs": [],
   "source": [
    "anomalyFeatures = df_encoded.columns.tolist()"
   ]
  },
  {
   "cell_type": "code",
   "execution_count": 106,
   "id": "17b29ab4",
   "metadata": {},
   "outputs": [
    {
     "data": {
      "text/plain": [
       "17"
      ]
     },
     "execution_count": 106,
     "metadata": {},
     "output_type": "execute_result"
    }
   ],
   "source": [
    "len(anomalyFeatures)"
   ]
  },
  {
   "cell_type": "code",
   "execution_count": 107,
   "id": "1923367e",
   "metadata": {},
   "outputs": [
    {
     "data": {
      "text/html": [
       "<style>#sk-container-id-1 {color: black;}#sk-container-id-1 pre{padding: 0;}#sk-container-id-1 div.sk-toggleable {background-color: white;}#sk-container-id-1 label.sk-toggleable__label {cursor: pointer;display: block;width: 100%;margin-bottom: 0;padding: 0.3em;box-sizing: border-box;text-align: center;}#sk-container-id-1 label.sk-toggleable__label-arrow:before {content: \"▸\";float: left;margin-right: 0.25em;color: #696969;}#sk-container-id-1 label.sk-toggleable__label-arrow:hover:before {color: black;}#sk-container-id-1 div.sk-estimator:hover label.sk-toggleable__label-arrow:before {color: black;}#sk-container-id-1 div.sk-toggleable__content {max-height: 0;max-width: 0;overflow: hidden;text-align: left;background-color: #f0f8ff;}#sk-container-id-1 div.sk-toggleable__content pre {margin: 0.2em;color: black;border-radius: 0.25em;background-color: #f0f8ff;}#sk-container-id-1 input.sk-toggleable__control:checked~div.sk-toggleable__content {max-height: 200px;max-width: 100%;overflow: auto;}#sk-container-id-1 input.sk-toggleable__control:checked~label.sk-toggleable__label-arrow:before {content: \"▾\";}#sk-container-id-1 div.sk-estimator input.sk-toggleable__control:checked~label.sk-toggleable__label {background-color: #d4ebff;}#sk-container-id-1 div.sk-label input.sk-toggleable__control:checked~label.sk-toggleable__label {background-color: #d4ebff;}#sk-container-id-1 input.sk-hidden--visually {border: 0;clip: rect(1px 1px 1px 1px);clip: rect(1px, 1px, 1px, 1px);height: 1px;margin: -1px;overflow: hidden;padding: 0;position: absolute;width: 1px;}#sk-container-id-1 div.sk-estimator {font-family: monospace;background-color: #f0f8ff;border: 1px dotted black;border-radius: 0.25em;box-sizing: border-box;margin-bottom: 0.5em;}#sk-container-id-1 div.sk-estimator:hover {background-color: #d4ebff;}#sk-container-id-1 div.sk-parallel-item::after {content: \"\";width: 100%;border-bottom: 1px solid gray;flex-grow: 1;}#sk-container-id-1 div.sk-label:hover label.sk-toggleable__label {background-color: #d4ebff;}#sk-container-id-1 div.sk-serial::before {content: \"\";position: absolute;border-left: 1px solid gray;box-sizing: border-box;top: 0;bottom: 0;left: 50%;z-index: 0;}#sk-container-id-1 div.sk-serial {display: flex;flex-direction: column;align-items: center;background-color: white;padding-right: 0.2em;padding-left: 0.2em;position: relative;}#sk-container-id-1 div.sk-item {position: relative;z-index: 1;}#sk-container-id-1 div.sk-parallel {display: flex;align-items: stretch;justify-content: center;background-color: white;position: relative;}#sk-container-id-1 div.sk-item::before, #sk-container-id-1 div.sk-parallel-item::before {content: \"\";position: absolute;border-left: 1px solid gray;box-sizing: border-box;top: 0;bottom: 0;left: 50%;z-index: -1;}#sk-container-id-1 div.sk-parallel-item {display: flex;flex-direction: column;z-index: 1;position: relative;background-color: white;}#sk-container-id-1 div.sk-parallel-item:first-child::after {align-self: flex-end;width: 50%;}#sk-container-id-1 div.sk-parallel-item:last-child::after {align-self: flex-start;width: 50%;}#sk-container-id-1 div.sk-parallel-item:only-child::after {width: 0;}#sk-container-id-1 div.sk-dashed-wrapped {border: 1px dashed gray;margin: 0 0.4em 0.5em 0.4em;box-sizing: border-box;padding-bottom: 0.4em;background-color: white;}#sk-container-id-1 div.sk-label label {font-family: monospace;font-weight: bold;display: inline-block;line-height: 1.2em;}#sk-container-id-1 div.sk-label-container {text-align: center;}#sk-container-id-1 div.sk-container {/* jupyter's `normalize.less` sets `[hidden] { display: none; }` but bootstrap.min.css set `[hidden] { display: none !important; }` so we also need the `!important` here to be able to override the default hidden behavior on the sphinx rendered scikit-learn.org. See: https://github.com/scikit-learn/scikit-learn/issues/21755 */display: inline-block !important;position: relative;}#sk-container-id-1 div.sk-text-repr-fallback {display: none;}</style><div id=\"sk-container-id-1\" class=\"sk-top-container\"><div class=\"sk-text-repr-fallback\"><pre>IsolationForest(contamination=0.01, random_state=42)</pre><b>In a Jupyter environment, please rerun this cell to show the HTML representation or trust the notebook. <br />On GitHub, the HTML representation is unable to render, please try loading this page with nbviewer.org.</b></div><div class=\"sk-container\" hidden><div class=\"sk-item\"><div class=\"sk-estimator sk-toggleable\"><input class=\"sk-toggleable__control sk-hidden--visually\" id=\"sk-estimator-id-1\" type=\"checkbox\" checked><label for=\"sk-estimator-id-1\" class=\"sk-toggleable__label sk-toggleable__label-arrow\">IsolationForest</label><div class=\"sk-toggleable__content\"><pre>IsolationForest(contamination=0.01, random_state=42)</pre></div></div></div></div></div>"
      ],
      "text/plain": [
       "IsolationForest(contamination=0.01, random_state=42)"
      ]
     },
     "execution_count": 107,
     "metadata": {},
     "output_type": "execute_result"
    }
   ],
   "source": [
    "model = IsolationForest(contamination=0.01, random_state=42)\n",
    "model.fit(df_encoded[anomalyFeatures])"
   ]
  },
  {
   "cell_type": "code",
   "execution_count": 108,
   "id": "013d858c",
   "metadata": {},
   "outputs": [],
   "source": [
    "# Predict outliers (anomalies)\n",
    "df_encoded['anomaly_score'] = model.decision_function(df_encoded[anomalyFeatures])\n",
    "df_encoded['anomaly_prediction'] = model.predict(df_encoded[anomalyFeatures])"
   ]
  },
  {
   "cell_type": "code",
   "execution_count": 109,
   "id": "22b4b271",
   "metadata": {},
   "outputs": [
    {
     "data": {
      "text/plain": [
       " 1    3100723\n",
       "-1      31321\n",
       "Name: anomaly_prediction, dtype: int64"
      ]
     },
     "execution_count": 109,
     "metadata": {},
     "output_type": "execute_result"
    }
   ],
   "source": [
    "df_encoded['anomaly_prediction'].value_counts()"
   ]
  },
  {
   "cell_type": "code",
   "execution_count": 110,
   "id": "8a479b3d",
   "metadata": {},
   "outputs": [
    {
     "data": {
      "text/plain": [
       "(3132044, 19)"
      ]
     },
     "execution_count": 110,
     "metadata": {},
     "output_type": "execute_result"
    }
   ],
   "source": [
    "df_encoded.shape "
   ]
  },
  {
   "cell_type": "markdown",
   "id": "4528c275",
   "metadata": {},
   "source": [
    "# "
   ]
  },
  {
   "cell_type": "markdown",
   "id": "7722eb95",
   "metadata": {},
   "source": [
    "<a name=\"3\"></a>\n",
    "\n",
    "### Graph Based Features"
   ]
  },
  {
   "cell_type": "code",
   "execution_count": 111,
   "id": "04f1ff7f",
   "metadata": {},
   "outputs": [],
   "source": [
    "df = encodeData.copy()"
   ]
  },
  {
   "cell_type": "code",
   "execution_count": 112,
   "id": "04dae378",
   "metadata": {},
   "outputs": [],
   "source": [
    "def count_unique_primary(encodeData_0 , baseCard):\n",
    "    Primary_ID = encodeData_0['Primary_ID'].unique().tolist()\n",
    "    Primary_ID = [x for x in Primary_ID if x != baseCard]\n",
    "    unique_values_count = len(set(Primary_ID))\n",
    "    return unique_values_count"
   ]
  },
  {
   "cell_type": "code",
   "execution_count": 113,
   "id": "f1e9e653",
   "metadata": {},
   "outputs": [],
   "source": [
    "def count_unique_second(encodeData_0 , baseCard):\n",
    "    Second_ID = encodeData_0['Second_ID'].unique().tolist()\n",
    "    Second_ID = [x for x in Second_ID if x != baseCard]\n",
    "    unique_values_count = len(set(Second_ID))\n",
    "    return unique_values_count"
   ]
  },
  {
   "cell_type": "code",
   "execution_count": 114,
   "id": "16a0c8c7",
   "metadata": {},
   "outputs": [],
   "source": [
    "all_cards = df_labels['CARD'].unique().tolist()"
   ]
  },
  {
   "cell_type": "code",
   "execution_count": 115,
   "id": "7ae0c4a0",
   "metadata": {},
   "outputs": [
    {
     "data": {
      "text/plain": [
       "8830"
      ]
     },
     "execution_count": 115,
     "metadata": {},
     "output_type": "execute_result"
    }
   ],
   "source": [
    "len(all_cards)"
   ]
  },
  {
   "cell_type": "code",
   "execution_count": null,
   "id": "51306ddb",
   "metadata": {},
   "outputs": [],
   "source": [
    "all_feature_dicts = []\n",
    "count_empty = 0\n",
    "for card in tqdm(all_cards, desc=\"Processing cards\"):\n",
    "    encodeData_0 = df[(df['Primary_ID'] == card) | (df['Second_ID'] == card)]\n",
    "    if len(encodeData_0) == 0:\n",
    "        count_empty = count_empty + 1\n",
    "    else:\n",
    "        encodeData_0['basedCard'] = card\n",
    "        encodeData_0['received'] = encodeData_0.apply(lambda row: 0 if row['basedCard'] == row['Primary_ID'] else (1 if row['basedCard'] == row['Second_ID'] else None), axis=1)\n",
    "        feature_dict = {}\n",
    "        #Card\n",
    "        feature_dict['Card'] = card\n",
    "        #Count transaction\n",
    "        feature_dict['count_total']   = len(encodeData_0)\n",
    "        feature_dict['count_received'] = encodeData_0['received'].sum()\n",
    "        feature_dict['count_given']   = len(encodeData_0) - encodeData_0['received'].sum()\n",
    "        \n",
    "        #given and received dataset\n",
    "        received = encodeData_0[encodeData_0['received'] == 0]\n",
    "        given    = encodeData_0[encodeData_0['received'] == 1]\n",
    "        \n",
    "        #Mean Amount\n",
    "        feature_dict['mean_total']    = encodeData_0['Amount'].mean()\n",
    "        feature_dict['mean_given']    = given['Amount'].mean()\n",
    "        feature_dict['mean_received'] = received['Amount'].mean()\n",
    "        \n",
    "        #STD Amount\n",
    "        feature_dict['std_total']    = encodeData_0['Amount'].std()\n",
    "        feature_dict['std_given']    = given['Amount'].std()\n",
    "        feature_dict['std_received'] = received['Amount'].std()\n",
    "        \n",
    "        #Mean Minute\n",
    "        feature_dict['mean_total_minute']    = encodeData_0['Minute'].mean()\n",
    "        feature_dict['mean_given_minute']    = given['Minute'].mean()\n",
    "        feature_dict['mean_received_minute'] = received['Minute'].mean()\n",
    "        \n",
    "        #Mean hour \n",
    "        feature_dict['mean_total_hour']    = encodeData_0['Hour'].mean()\n",
    "        feature_dict['mean_given_hour']    = given['Hour'].mean()\n",
    "        feature_dict['mean_received_hour'] = received['Hour'].mean()\n",
    "        \n",
    "        #Mean hour bin\n",
    "        feature_dict['mean_total_hourBin']    = encodeData_0['hour_binned'].mean()\n",
    "        feature_dict['mean_given_hourBin']    = given['hour_binned'].mean()\n",
    "        feature_dict['mean_received_hourBin'] = received['hour_binned'].mean()\n",
    "        #STD all time \n",
    "        df_sorted = encodeData_0.sort_values(by='combined_timestamp')\n",
    "        time_diffs = np.diff(df_sorted['combined_timestamp'].tolist()).astype('timedelta64[us]').astype(int)\n",
    "        feature_dict['std_combined'] = np.std(time_diffs)\n",
    "        \n",
    "        #STD hour\n",
    "        feature_dict['std_total_hour']   = encodeData_0['Hour'].std()\n",
    "        feature_dict['std_given_hour']   = given['Hour'].std()\n",
    "        feature_dict['std_recived_hour'] = received['Hour'].std()\n",
    "        #STD hour amoumt\n",
    "        feature_dict['std_total_hour_amt']    = encodeData_0.groupby('Hour')['Amount'].std().mean()\n",
    "        feature_dict['std_given_hour_amt']    = given.groupby('Hour')['Amount'].std().mean()\n",
    "        feature_dict['std_received_hour_amt'] = received.groupby('Hour')['Amount'].std().mean()\n",
    "\n",
    "        #Mean Day\n",
    "        feature_dict['mean_total_day']   = encodeData_0['day'].mean()\n",
    "        feature_dict['mean_given_day']   = given['day'].mean()\n",
    "        feature_dict['mean_recived_day'] = received['day'].mean()\n",
    "        \n",
    "        #STD Day\n",
    "        feature_dict['std_total_day']    = encodeData_0['day'].std()\n",
    "        feature_dict['std_given_day']    = given['day'].std()\n",
    "        feature_dict['std_received_day'] = received['day'].std()\n",
    "        #STD day amoumt\n",
    "        feature_dict['std_total_day_amt']    = encodeData_0.groupby('day')['Amount'].std().mean()\n",
    "        feature_dict['std_given_day_amt']    = given.groupby('day')['Amount'].std().mean()\n",
    "        feature_dict['std_received_day_amt'] = received.groupby('day')['Amount'].std().mean()\n",
    "        \n",
    "        #Mean Month\n",
    "        feature_dict['mean_total_month']    = encodeData_0['month'].mean()\n",
    "        feature_dict['mean_given_month']    = given['month'].mean()\n",
    "        feature_dict['mean_received_month'] = received['month'].mean()\n",
    "        #STD month amoumt\n",
    "        feature_dict['std_total_month_amt']    = encodeData_0.groupby('month')['Amount'].std().mean()\n",
    "        feature_dict['std_given_month_amt']    = given.groupby('month')['Amount'].std().mean()\n",
    "        feature_dict['std_received_month_amt'] = received.groupby('month')['Amount'].std().mean()\n",
    "        \n",
    "        #Unique Terminal type\n",
    "        feature_dict['count_total_termnialType']    = encodeData_0['Terminal_Type'].nunique()\n",
    "        feature_dict['count_given_termnialType']    = given['Terminal_Type'].nunique()\n",
    "        feature_dict['count_received_termnialType'] = received['Terminal_Type'].nunique()\n",
    "\n",
    "        \n",
    "        #Unique Terminal id\n",
    "        feature_dict['count_total_termnialID']    = encodeData_0['Terminal_ID'].nunique()\n",
    "        feature_dict['count_given_termnialID']    = given['Terminal_ID'].nunique()\n",
    "        feature_dict['count_received_termnialID'] = received['Terminal_ID'].nunique()\n",
    "        #Mean frequency terminal ID \n",
    "        feature_dict['mean_total_termnialID_count']    = encodeData_0['Terminal_ID_Count'].mean()\n",
    "        feature_dict['mean_given_termnialID_count']    = given['Terminal_ID_Count'].mean()\n",
    "        feature_dict['mean_received_termnialID_count'] = received['Terminal_ID_Count'].mean()\n",
    "        \n",
    "        #Count unique ID\n",
    "        feature_dict['count_unique_secondID']  = count_unique_second(encodeData_0 , card)\n",
    "        feature_dict['count_unique_primaryID'] = count_unique_primary(encodeData_0 , card)\n",
    "        feature_dict['count_unique_ID'] = feature_dict['count_unique_secondID'] + feature_dict['count_unique_primaryID']\n",
    "        #Mean frequency primary ID\n",
    "        feature_dict['mean_total_Primary_ID_counts']    = encodeData_0['Primary_ID_counts'].mean()\n",
    "        feature_dict['mean_given_Primary_ID_counts']    = given['Primary_ID_counts'].mean()\n",
    "        feature_dict['mean_received_Primary_ID_counts'] = received['Primary_ID_counts'].mean()\n",
    "        #Mean frequency second ID\n",
    "        feature_dict['mean_total_Second_ID_counts_counts']    = encodeData_0['Second_ID_counts'].mean()\n",
    "        feature_dict['mean_given_Second_ID_counts_counts']    = given['Second_ID_counts'].mean()\n",
    "        feature_dict['mean_received_Second_ID_counts_counts'] = received['Second_ID_counts'].mean()  \n",
    "        \n",
    "        #Time Range\n",
    "        feature_dict['min_time_day']  = encodeData_0['combined_timestamp'].min().day\n",
    "        feature_dict['min_time_hour'] = encodeData_0['combined_timestamp'].min().hour\n",
    "        feature_dict['max_time_day']  = encodeData_0['combined_timestamp'].max().day\n",
    "        feature_dict['max_time_hour'] = encodeData_0['combined_timestamp'].max().hour\n",
    "        feature_dict['std_time']      = np.std((encodeData_0['combined_timestamp'] - encodeData_0['combined_timestamp'].min()).dt.days)\n",
    "        feature_dict['range_time']    = (encodeData_0['combined_timestamp'].max() - encodeData_0['combined_timestamp'].min()).days\n",
    "        \n",
    "        #mean each terminalType\n",
    "        feature_dict['type_1'] = encodeData_0[encodeData_0['Terminal_Type'] == 1]['Amount'].mean()  \n",
    "        feature_dict['type_5'] = encodeData_0[encodeData_0['Terminal_Type'] == 5]['Amount'].mean() \n",
    "        feature_dict['type_6'] = encodeData_0[encodeData_0['Terminal_Type'] == 6]['Amount'].mean()\n",
    "        feature_dict['type_7'] = encodeData_0[encodeData_0['Terminal_Type'] == 7]['Amount'].mean()\n",
    "        \n",
    "        #mean frequency encoding\n",
    "        \n",
    "        #Time series features \n",
    "        # Autocorrelation Features\n",
    "        encodeData_0['lag_1'] = encodeData_0['Amount'].shift(1)\n",
    "        encodeData_0['lag_2'] = encodeData_0['Amount'].shift(2)\n",
    "        feature_dict['autocorrelation_lag_1'] = encodeData_0['Amount'].autocorr(1)\n",
    "        feature_dict['autocorrelation_lag_2'] = encodeData_0['Amount'].autocorr(2)\n",
    "        \n",
    "        #Number of pairs \n",
    "        encodeData_0['Pair'] = encodeData_0.apply(lambda row: tuple(sorted([row['Primary_ID'], row['Second_ID']])), axis=1)\n",
    "        pair_counts = encodeData_0['Pair'].value_counts()\n",
    "        pair_counts = pair_counts[pair_counts > 1]\n",
    "        pair_freq_dict = pair_counts.to_dict()\n",
    "        if not pair_freq_dict:\n",
    "            feature_dict['Max_Pair_Frequency'] = 0\n",
    "            feature_dict['Num_Pairs'] = len(encodeData_0)\n",
    "        else:\n",
    "            feature_dict['Max_Pair_Frequency'] = encodeData_0['Pair'].map(pair_freq_dict)\n",
    "            feature_dict['Num_Pairs'] = encodeData_0['Pair'].map(pair_counts)\n",
    "\n",
    "        #Anomaly detection total\n",
    "        feature_dict['isolation_anomaly_total'] = len(encodeData_0[encodeData_0['anomaly_prediction'] == -1])\n",
    "        feature_dict['isolation_normal_total']  = len(encodeData_0[encodeData_0['anomaly_prediction'] ==  1])\n",
    "        feature_dict['isolation_mean_total'] = encodeData_0['anomaly_score'].mean()\n",
    "        feature_dict['isolation_std_total']  = encodeData_0['anomaly_score'].std()\n",
    "        #Anomaly detection given\n",
    "        feature_dict['isolation_anomaly_given'] = len(given[given['anomaly_prediction'] == -1])\n",
    "        feature_dict['isolation_normal_given']  = len(given[given['anomaly_prediction'] ==  1])\n",
    "        feature_dict['isolation_mean_given'] = given['anomaly_score'].mean()\n",
    "        feature_dict['isolation_std_given']  = given['anomaly_score'].std() \n",
    "        #Anomaly detection received\n",
    "        feature_dict['isolation_anomaly_received'] = len(received[received['anomaly_prediction'] == -1])\n",
    "        feature_dict['isolation_normal_received']  = len(received[received['anomaly_prediction'] ==  1])\n",
    "        feature_dict['isolation_mean_received'] = received['anomaly_score'].mean()\n",
    "        feature_dict['isolation_std_received']  = received['anomaly_score'].std() \n",
    "        #Label\n",
    "        feature_dict['label'] = df_labels[df_labels['CARD'] == card]['LABEL'].values[0]\n",
    "\n",
    "    all_feature_dicts.append(feature_dict)\n",
    "print('8830 rows except ' , count_empty)"
   ]
  },
  {
   "cell_type": "code",
   "execution_count": null,
   "id": "67926155",
   "metadata": {},
   "outputs": [],
   "source": [
    "features_df = pd.DataFrame(all_feature_dicts)"
   ]
  },
  {
   "cell_type": "code",
   "execution_count": null,
   "id": "dcef2561",
   "metadata": {},
   "outputs": [],
   "source": [
    "features_df.drop(['Max_Pair_Frequency', 'Num_Pairs'],axis=1,inplace=True)"
   ]
  },
  {
   "cell_type": "code",
   "execution_count": null,
   "id": "3c5b0c8f",
   "metadata": {},
   "outputs": [],
   "source": [
    "features_df.to_csv('featuresDF_v2.csv')"
   ]
  },
  {
   "cell_type": "code",
   "execution_count": null,
   "id": "b1dc89c5",
   "metadata": {},
   "outputs": [],
   "source": [
    "# features_df = pd.read_csv('featuresDF_v2.csv')"
   ]
  },
  {
   "cell_type": "code",
   "execution_count": null,
   "id": "17c93174",
   "metadata": {
    "scrolled": false
   },
   "outputs": [],
   "source": [
    "features_df.info()"
   ]
  },
  {
   "cell_type": "markdown",
   "id": "677d90e0",
   "metadata": {},
   "source": [
    "<a name=\"4\"></a>\n",
    "### Train the models"
   ]
  },
  {
   "cell_type": "code",
   "execution_count": null,
   "id": "ddabe726",
   "metadata": {},
   "outputs": [],
   "source": [
    "features_df_fillZero = features_df.fillna(0)"
   ]
  },
  {
   "cell_type": "code",
   "execution_count": null,
   "id": "ec0b5909",
   "metadata": {},
   "outputs": [],
   "source": [
    "features_df_fillZero = features_df_fillZero.drop_duplicates()"
   ]
  },
  {
   "cell_type": "code",
   "execution_count": null,
   "id": "0a3bbe88",
   "metadata": {},
   "outputs": [],
   "source": [
    "# features_df_fillZero.drop('Unnamed: 0',axis=1,inplace=True)"
   ]
  },
  {
   "cell_type": "code",
   "execution_count": null,
   "id": "4d89aaf4",
   "metadata": {},
   "outputs": [],
   "source": [
    "features_df_train = features_df_fillZero[features_df_fillZero['label'] != 'unknown']\n",
    "features_df_test = features_df_fillZero[features_df_fillZero['label'] == 'unknown']"
   ]
  },
  {
   "cell_type": "code",
   "execution_count": null,
   "id": "3f66bd80",
   "metadata": {},
   "outputs": [],
   "source": [
    "X_evaluation = features_df_train.iloc[:, 1:-1]"
   ]
  },
  {
   "cell_type": "code",
   "execution_count": null,
   "id": "de3dc1fa",
   "metadata": {},
   "outputs": [],
   "source": [
    "len(features_df_train) , len(features_df_test) "
   ]
  },
  {
   "cell_type": "code",
   "execution_count": null,
   "id": "ed0c95c9",
   "metadata": {},
   "outputs": [],
   "source": [
    "y.value_counts()"
   ]
  },
  {
   "cell_type": "code",
   "execution_count": null,
   "id": "9822d595",
   "metadata": {},
   "outputs": [],
   "source": [
    "X = features_df_train.iloc[:, 1:-1]\n",
    "y = features_df_train['label']"
   ]
  },
  {
   "cell_type": "code",
   "execution_count": null,
   "id": "adcf7401",
   "metadata": {},
   "outputs": [],
   "source": [
    "X_train, X_test, y_train, y_test = train_test_split(X, y, test_size=0.2, random_state=42)"
   ]
  },
  {
   "cell_type": "code",
   "execution_count": null,
   "id": "81680136",
   "metadata": {},
   "outputs": [],
   "source": [
    "X_train.shape"
   ]
  },
  {
   "cell_type": "code",
   "execution_count": null,
   "id": "5e5108a1",
   "metadata": {},
   "outputs": [],
   "source": [
    "y_train = y_train.astype(int)\n",
    "y_test = y_test.astype(int)"
   ]
  },
  {
   "cell_type": "markdown",
   "id": "5e953c2b",
   "metadata": {},
   "source": [
    "**Random Forest**"
   ]
  },
  {
   "cell_type": "code",
   "execution_count": null,
   "id": "73e99f06",
   "metadata": {},
   "outputs": [],
   "source": [
    "rf = RandomForestClassifier(n_estimators=500, random_state=42)\n",
    "rf.fit(X_train, y_train)\n",
    "y_pred = rf.predict(X_test)\n",
    "y_prob = rf.predict_proba(X_test)[:, 1]\n",
    "accuracy = accuracy_score(y_test, y_pred)\n",
    "f1 = f1_score(y_test, y_pred, average=None)\n",
    "print('accuracy : ' ,accuracy)\n",
    "print(\"Classification Report:\\n\", classification_report(y_test, y_pred))"
   ]
  },
  {
   "cell_type": "code",
   "execution_count": null,
   "id": "301f52e1",
   "metadata": {},
   "outputs": [],
   "source": [
    "rf = RandomForestClassifier(n_estimators=500, random_state=42)\n",
    "rf.fit(X_train, y_train)\n",
    "y_pred = rf.predict(X_test)\n",
    "y_prob = rf.predict_proba(X_test)[:, 1]\n",
    "accuracy = accuracy_score(y_test, y_pred)\n",
    "f1 = f1_score(y_test, y_pred, average=None)\n",
    "print('accuracy : ' ,accuracy)\n",
    "print(\"Classification Report:\\n\", classification_report(y_test, y_pred))"
   ]
  },
  {
   "cell_type": "code",
   "execution_count": null,
   "id": "b3293c1b",
   "metadata": {},
   "outputs": [],
   "source": [
    "rf = RandomForestClassifier(n_estimators=500, random_state=42)\n",
    "rf.fit(X_train, y_train)\n",
    "y_pred = rf.predict(X_test)\n",
    "y_prob = rf.predict_proba(X_test)[:, 1]\n",
    "accuracy = accuracy_score(y_test, y_pred)\n",
    "f1 = f1_score(y_test, y_pred, average=None)\n",
    "print('accuracy : ' ,accuracy)\n",
    "print(\"Classification Report:\\n\", classification_report(y_test, y_pred))"
   ]
  },
  {
   "cell_type": "code",
   "execution_count": null,
   "id": "3c9670de",
   "metadata": {},
   "outputs": [],
   "source": [
    "feature_importances = rf.feature_importances_\n",
    "feature_names = X_train.columns\n",
    "feature_importance_df = pd.DataFrame({'Feature': feature_names, 'Importance': feature_importances})\n",
    "DF_features = feature_importance_df.sort_values(by='Importance', ascending=False)"
   ]
  },
  {
   "cell_type": "code",
   "execution_count": null,
   "id": "e45bfd7a",
   "metadata": {},
   "outputs": [],
   "source": [
    "DF_features.head(20)"
   ]
  },
  {
   "cell_type": "code",
   "execution_count": null,
   "id": "b9627fe8",
   "metadata": {},
   "outputs": [],
   "source": [
    "DF_features.tail(20)"
   ]
  },
  {
   "cell_type": "code",
   "execution_count": null,
   "id": "ebb9ef06",
   "metadata": {},
   "outputs": [],
   "source": [
    "# Find the index of the tree with the highest accuracy on the training data\n",
    "tree_accuracies = [accuracy_score(y_train, tree.predict(X_train)) for tree in rf.estimators_]\n",
    "most_accurate_tree_index = tree_accuracies.index(max(tree_accuracies))\n",
    "\n",
    "most_accurate_tree = rf.estimators_[most_accurate_tree_index]\n",
    "\n",
    "# Plot the tree\n",
    "plt.figure(figsize=(20, 20))\n",
    "plot_tree(most_accurate_tree, filled=True, feature_names=X_train.columns, class_names=[str(i) for i in rf_weight.classes_], rounded=True)\n",
    "plt.savefig('decision_tree.png', dpi=300)\n",
    "plt.show()\n"
   ]
  },
  {
   "cell_type": "code",
   "execution_count": null,
   "id": "304ce012",
   "metadata": {},
   "outputs": [],
   "source": [
    "analysis_features_df_train = features_df_train.copy()\n",
    "y_pred = rf.predict(X)\n",
    "analysis_features_df_train['pred'] = y_pred\n",
    "analysis_features_df_train"
   ]
  },
  {
   "cell_type": "code",
   "execution_count": null,
   "id": "3cc9b3eb",
   "metadata": {},
   "outputs": [],
   "source": [
    "false = analysis_features_df_train[analysis_features_df_train['label'] != analysis_features_df_train['pred']]"
   ]
  },
  {
   "cell_type": "code",
   "execution_count": null,
   "id": "e55b959d",
   "metadata": {},
   "outputs": [],
   "source": [
    "false_0 = false[false['label'] == 0 ]\n",
    "false_1 = false[false['label'] == 1 ]\n",
    "false_2 = false[false['label'] == 2 ]"
   ]
  },
  {
   "cell_type": "code",
   "execution_count": null,
   "id": "78ff3684",
   "metadata": {},
   "outputs": [],
   "source": [
    "false_1"
   ]
  },
  {
   "cell_type": "code",
   "execution_count": null,
   "id": "42a22471",
   "metadata": {},
   "outputs": [],
   "source": [
    "false_1.loc[5624]"
   ]
  },
  {
   "cell_type": "code",
   "execution_count": null,
   "id": "550e17cc",
   "metadata": {},
   "outputs": [],
   "source": [
    "false_2.columns"
   ]
  },
  {
   "cell_type": "code",
   "execution_count": null,
   "id": "1e9229d4",
   "metadata": {},
   "outputs": [],
   "source": [
    "y_test.value_counts() / len(y_test)"
   ]
  },
  {
   "cell_type": "code",
   "execution_count": null,
   "id": "2120d3f6",
   "metadata": {},
   "outputs": [],
   "source": []
  },
  {
   "cell_type": "code",
   "execution_count": null,
   "id": "6e25995e",
   "metadata": {},
   "outputs": [],
   "source": [
    "class_weights = {0: 0.205329, 1: 0.537618, 2:0.257053}\n",
    "rf_weight = RandomForestClassifier(n_estimators=500, random_state=42, class_weight=class_weights)\n",
    "rf_weight.fit(X_train, y_train)\n",
    "y_pred = rf_weight.predict(X_test)\n",
    "y_prob = rf_weight.predict_proba(X_test)[:, 1]\n",
    "accuracy = accuracy_score(y_test, y_pred)\n",
    "f1 = f1_score(y_test, y_pred, average=None)\n",
    "print('accuracy : ' ,accuracy)\n",
    "print(\"Classification Report:\\n\", classification_report(y_test, y_pred))"
   ]
  },
  {
   "cell_type": "code",
   "execution_count": null,
   "id": "3e21589f",
   "metadata": {},
   "outputs": [],
   "source": [
    "0.9404"
   ]
  },
  {
   "cell_type": "code",
   "execution_count": null,
   "id": "145a8100",
   "metadata": {},
   "outputs": [],
   "source": [
    "clf = XGBClassifier(n_estimators=1000, random_state=42)\n",
    "clf.fit(X_train, y_train)\n",
    "y_pred = clf.predict(X_test)\n",
    "y_prob = clf.predict_proba(X_test)[:, 1]\n",
    "accuracy = accuracy_score(y_test, y_pred)\n",
    "f1 = f1_score(y_test, y_pred, average=None)\n",
    "print('accuracy:', accuracy)\n",
    "print(\"Classification Report:\\n\", classification_report(y_test, y_pred))"
   ]
  },
  {
   "cell_type": "code",
   "execution_count": null,
   "id": "d0ff0428",
   "metadata": {},
   "outputs": [],
   "source": [
    ".935"
   ]
  },
  {
   "cell_type": "code",
   "execution_count": null,
   "id": "5d8fbb5d",
   "metadata": {},
   "outputs": [],
   "source": [
    "clf = GradientBoostingClassifier(n_estimators=500, random_state=42)\n",
    "clf.fit(X_train, y_train)\n",
    "y_pred = clf.predict(X_test)\n",
    "y_prob = clf.predict_proba(X_test)[:, 1]\n",
    "accuracy = accuracy_score(y_test, y_pred)\n",
    "f1 = f1_score(y_test, y_pred, average=None)\n",
    "print('accuracy:', accuracy)\n",
    "print(\"Classification Report:\\n\", classification_report(y_test, y_pred))"
   ]
  },
  {
   "cell_type": "code",
   "execution_count": null,
   "id": "dbbf31e4",
   "metadata": {},
   "outputs": [],
   "source": [
    "clf = ExtraTreesClassifier(n_estimators=500, random_state=42)\n",
    "clf.fit(X_train, y_train)\n",
    "y_pred = clf.predict(X_test)\n",
    "y_prob = clf.predict_proba(X_test)[:, 1]\n",
    "accuracy = accuracy_score(y_test, y_pred)\n",
    "f1 = f1_score(y_test, y_pred, average=None)\n",
    "print('accuracy:', accuracy)\n",
    "print(\"Classification Report:\\n\", classification_report(y_test, y_pred))"
   ]
  },
  {
   "cell_type": "code",
   "execution_count": null,
   "id": "571a997a",
   "metadata": {},
   "outputs": [],
   "source": [
    "clf = AdaBoostClassifier(n_estimators=500, random_state=42)\n",
    "clf.fit(X_train, y_train)\n",
    "y_pred = clf.predict(X_test)\n",
    "y_prob = clf.predict_proba(X_test)[:, 1]\n",
    "accuracy = accuracy_score(y_test, y_pred)\n",
    "f1 = f1_score(y_test, y_pred, average=None)\n",
    "print('accuracy:', accuracy)\n",
    "print(\"Classification Report:\\n\", classification_report(y_test, y_pred))"
   ]
  },
  {
   "cell_type": "code",
   "execution_count": null,
   "id": "34538de5",
   "metadata": {},
   "outputs": [],
   "source": [
    "clf = MLPClassifier(hidden_layer_sizes=(1000,), max_iter=500, random_state=42)\n",
    "clf.fit(X_train, y_train)\n",
    "y_pred = clf.predict(X_test)\n",
    "y_prob = clf.predict_proba(X_test)[:, 1]\n",
    "accuracy = accuracy_score(y_test, y_pred)\n",
    "f1 = f1_score(y_test, y_pred, average=None)\n",
    "print('accuracy:', accuracy)\n",
    "print(\"Classification Report:\\n\", classification_report(y_test, y_pred))"
   ]
  },
  {
   "cell_type": "code",
   "execution_count": null,
   "id": "7bda0583",
   "metadata": {},
   "outputs": [],
   "source": [
    "scaler = StandardScaler()\n",
    "X_train_scaled = scaler.fit_transform(X_train)\n",
    "X_test_scaled = scaler.transform(X_test)\n",
    "\n",
    "# Perform PCA\n",
    "n_components = 45  \n",
    "pca = PCA(n_components=n_components)\n",
    "X_train_pca = pca.fit_transform(X_train_scaled)\n",
    "X_test_pca = pca.transform(X_test_scaled)\n",
    "\n",
    "# Define the MLP model\n",
    "model = Sequential()\n",
    "model.add(Dense(units=128, activation='relu', input_dim=X_train.shape[1]))\n",
    "model.add(Dropout(0.5))\n",
    "model.add(Dense(units=64, activation='relu'))\n",
    "model.add(Dropout(0.5))\n",
    "model.add(Dense(units=32, activation='relu'))\n",
    "model.add(Dropout(0.5))\n",
    "model.add(Dense(units=3, activation='softmax'))\n",
    "\n",
    "# Compile the model\n",
    "model.compile(optimizer=Adam(lr=0.0001), loss='sparse_categorical_crossentropy', metrics=['accuracy'])\n",
    "# Train the model\n",
    "model.fit(X_train_scaled, y_train, epochs=100, batch_size=32, validation_data=(X_test, y_test))\n",
    "# Predictions\n",
    "y_pred_probs = model.predict(X_test_scaled)\n",
    "y_pred = tf.argmax(y_pred_probs, axis=1)\n",
    "# Evaluate the model\n",
    "accuracy = accuracy_score(y_test, y_pred)\n",
    "f1 = f1_score(y_test, y_pred, average='weighted')\n",
    "classification_rep = classification_report(y_test, y_pred)\n",
    "print('accuracy:', accuracy)\n",
    "print('f1:', f1)\n",
    "print(\"Classification Report:\\n\", classification_rep)"
   ]
  },
  {
   "cell_type": "code",
   "execution_count": null,
   "id": "2944fd3d",
   "metadata": {},
   "outputs": [],
   "source": [
    "\n",
    "\n",
    "#Define the MLP model\n",
    "model = Sequential()\n",
    "model.add(Dense(units=128, activation='relu', input_dim=X_train.shape[1]))\n",
    "model.add(BatchNormalization())\n",
    "model.add(Dense(units=64, activation='relu'))\n",
    "model.add(BatchNormalization())\n",
    "model.add(Dense(units=32, activation='relu'))\n",
    "model.add(BatchNormalization())\n",
    "model.add(Dense(units=3, activation='softmax'))\n",
    "\n",
    "\n",
    "# Compile the model\n",
    "model.compile(optimizer=Adam(lr=0.001), loss='sparse_categorical_crossentropy', metrics=['accuracy'])\n",
    "# Train the model\n",
    "model.fit(X_train, y_train, epochs=100, batch_size=32, validation_data=(X_test, y_test))\n",
    "# Predictions\n",
    "y_pred_probs = model.predict(X_test)\n",
    "y_pred = tf.argmax(y_pred_probs, axis=1)\n",
    "# Evaluate the model\n",
    "accuracy = accuracy_score(y_test, y_pred)\n",
    "f1 = f1_score(y_test, y_pred, average='weighted')\n",
    "classification_rep = classification_report(y_test, y_pred)\n",
    "print('accuracy:', accuracy)\n",
    "print('f1:', f1)\n",
    "print(\"Classification Report:\\n\", classification_rep)"
   ]
  }
 ],
 "metadata": {
  "kernelspec": {
   "display_name": "Python 3 (ipykernel)",
   "language": "python",
   "name": "python3"
  },
  "language_info": {
   "codemirror_mode": {
    "name": "ipython",
    "version": 3
   },
   "file_extension": ".py",
   "mimetype": "text/x-python",
   "name": "python",
   "nbconvert_exporter": "python",
   "pygments_lexer": "ipython3",
   "version": "3.9.7"
  }
 },
 "nbformat": 4,
 "nbformat_minor": 5
}
